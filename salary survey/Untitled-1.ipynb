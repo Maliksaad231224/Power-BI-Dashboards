{
 "cells": [
  {
   "cell_type": "code",
   "execution_count": 49,
   "metadata": {},
   "outputs": [],
   "source": [
    "import pandas as pd\n",
    "import numpy as np\n",
    "import string\n",
    "import matplotlib.pyplot as plt\n",
    "import pandas as pd\n",
    "import seaborn as sns"
   ]
  },
  {
   "cell_type": "code",
   "execution_count": 105,
   "metadata": {},
   "outputs": [],
   "source": [
    "df= pd.read_excel('Ask A Manager Salary Survey 2021 (Responses).xlsx')"
   ]
  },
  {
   "cell_type": "code",
   "execution_count": 106,
   "metadata": {},
   "outputs": [
    {
     "data": {
      "text/html": [
       "<div>\n",
       "<style scoped>\n",
       "    .dataframe tbody tr th:only-of-type {\n",
       "        vertical-align: middle;\n",
       "    }\n",
       "\n",
       "    .dataframe tbody tr th {\n",
       "        vertical-align: top;\n",
       "    }\n",
       "\n",
       "    .dataframe thead th {\n",
       "        text-align: right;\n",
       "    }\n",
       "</style>\n",
       "<table border=\"1\" class=\"dataframe\">\n",
       "  <thead>\n",
       "    <tr style=\"text-align: right;\">\n",
       "      <th></th>\n",
       "      <th>Timestamp</th>\n",
       "      <th>Age</th>\n",
       "      <th>Industry</th>\n",
       "      <th>Job title</th>\n",
       "      <th>additional job attribute</th>\n",
       "      <th>Annual Salary</th>\n",
       "      <th>Additional Benifits</th>\n",
       "      <th>Currency</th>\n",
       "      <th>Other Currency</th>\n",
       "      <th>If your income needs additional context, please provide it here:</th>\n",
       "      <th>What country do you work in?</th>\n",
       "      <th>If you're in the U.S., what state do you work in?</th>\n",
       "      <th>What city do you work in?</th>\n",
       "      <th>How many years of professional work experience do you have overall?</th>\n",
       "      <th>How many years of professional work experience do you have in your field?</th>\n",
       "      <th>What is your highest level of education completed?</th>\n",
       "      <th>What is your gender?</th>\n",
       "      <th>What is your race? (Choose all that apply.)</th>\n",
       "    </tr>\n",
       "  </thead>\n",
       "  <tbody>\n",
       "    <tr>\n",
       "      <th>0</th>\n",
       "      <td>2021-04-27 11:02:09.743</td>\n",
       "      <td>25-34</td>\n",
       "      <td>Education (Higher Education)</td>\n",
       "      <td>Research and Instruction Librarian</td>\n",
       "      <td>NaN</td>\n",
       "      <td>55000</td>\n",
       "      <td>0.0</td>\n",
       "      <td>USD</td>\n",
       "      <td>NaN</td>\n",
       "      <td>NaN</td>\n",
       "      <td>United States</td>\n",
       "      <td>Massachusetts</td>\n",
       "      <td>Boston</td>\n",
       "      <td>5-7 years</td>\n",
       "      <td>5-7 years</td>\n",
       "      <td>Master's degree</td>\n",
       "      <td>Woman</td>\n",
       "      <td>White</td>\n",
       "    </tr>\n",
       "    <tr>\n",
       "      <th>1</th>\n",
       "      <td>2021-04-27 11:02:21.562</td>\n",
       "      <td>25-34</td>\n",
       "      <td>Computing or Tech</td>\n",
       "      <td>Change &amp; Internal Communications Manager</td>\n",
       "      <td>NaN</td>\n",
       "      <td>54600</td>\n",
       "      <td>4000.0</td>\n",
       "      <td>GBP</td>\n",
       "      <td>NaN</td>\n",
       "      <td>NaN</td>\n",
       "      <td>United Kingdom</td>\n",
       "      <td>NaN</td>\n",
       "      <td>Cambridge</td>\n",
       "      <td>8 - 10 years</td>\n",
       "      <td>5-7 years</td>\n",
       "      <td>College degree</td>\n",
       "      <td>Non-binary</td>\n",
       "      <td>White</td>\n",
       "    </tr>\n",
       "    <tr>\n",
       "      <th>2</th>\n",
       "      <td>2021-04-27 11:02:38.125</td>\n",
       "      <td>25-34</td>\n",
       "      <td>Accounting, Banking &amp; Finance</td>\n",
       "      <td>Marketing Specialist</td>\n",
       "      <td>NaN</td>\n",
       "      <td>34000</td>\n",
       "      <td>NaN</td>\n",
       "      <td>USD</td>\n",
       "      <td>NaN</td>\n",
       "      <td>NaN</td>\n",
       "      <td>US</td>\n",
       "      <td>Tennessee</td>\n",
       "      <td>Chattanooga</td>\n",
       "      <td>2 - 4 years</td>\n",
       "      <td>2 - 4 years</td>\n",
       "      <td>College degree</td>\n",
       "      <td>Woman</td>\n",
       "      <td>White</td>\n",
       "    </tr>\n",
       "    <tr>\n",
       "      <th>3</th>\n",
       "      <td>2021-04-27 11:02:40.643</td>\n",
       "      <td>25-34</td>\n",
       "      <td>Nonprofits</td>\n",
       "      <td>Program Manager</td>\n",
       "      <td>NaN</td>\n",
       "      <td>62000</td>\n",
       "      <td>3000.0</td>\n",
       "      <td>USD</td>\n",
       "      <td>NaN</td>\n",
       "      <td>NaN</td>\n",
       "      <td>USA</td>\n",
       "      <td>Wisconsin</td>\n",
       "      <td>Milwaukee</td>\n",
       "      <td>8 - 10 years</td>\n",
       "      <td>5-7 years</td>\n",
       "      <td>College degree</td>\n",
       "      <td>Woman</td>\n",
       "      <td>White</td>\n",
       "    </tr>\n",
       "    <tr>\n",
       "      <th>4</th>\n",
       "      <td>2021-04-27 11:02:41.793</td>\n",
       "      <td>25-34</td>\n",
       "      <td>Accounting, Banking &amp; Finance</td>\n",
       "      <td>Accounting Manager</td>\n",
       "      <td>NaN</td>\n",
       "      <td>60000</td>\n",
       "      <td>7000.0</td>\n",
       "      <td>USD</td>\n",
       "      <td>NaN</td>\n",
       "      <td>NaN</td>\n",
       "      <td>US</td>\n",
       "      <td>South Carolina</td>\n",
       "      <td>Greenville</td>\n",
       "      <td>8 - 10 years</td>\n",
       "      <td>5-7 years</td>\n",
       "      <td>College degree</td>\n",
       "      <td>Woman</td>\n",
       "      <td>White</td>\n",
       "    </tr>\n",
       "  </tbody>\n",
       "</table>\n",
       "</div>"
      ],
      "text/plain": [
       "                Timestamp    Age                       Industry  \\\n",
       "0 2021-04-27 11:02:09.743  25-34   Education (Higher Education)   \n",
       "1 2021-04-27 11:02:21.562  25-34              Computing or Tech   \n",
       "2 2021-04-27 11:02:38.125  25-34  Accounting, Banking & Finance   \n",
       "3 2021-04-27 11:02:40.643  25-34                     Nonprofits   \n",
       "4 2021-04-27 11:02:41.793  25-34  Accounting, Banking & Finance   \n",
       "\n",
       "                                  Job title additional job attribute  \\\n",
       "0        Research and Instruction Librarian                      NaN   \n",
       "1  Change & Internal Communications Manager                      NaN   \n",
       "2                      Marketing Specialist                      NaN   \n",
       "3                           Program Manager                      NaN   \n",
       "4                        Accounting Manager                      NaN   \n",
       "\n",
       "   Annual Salary  Additional Benifits Currency Other Currency  \\\n",
       "0          55000                  0.0      USD            NaN   \n",
       "1          54600               4000.0      GBP            NaN   \n",
       "2          34000                  NaN      USD            NaN   \n",
       "3          62000               3000.0      USD            NaN   \n",
       "4          60000               7000.0      USD            NaN   \n",
       "\n",
       "  If your income needs additional context, please provide it here:  \\\n",
       "0                                                NaN                 \n",
       "1                                                NaN                 \n",
       "2                                                NaN                 \n",
       "3                                                NaN                 \n",
       "4                                                NaN                 \n",
       "\n",
       "  What country do you work in?  \\\n",
       "0                United States   \n",
       "1               United Kingdom   \n",
       "2                           US   \n",
       "3                          USA   \n",
       "4                           US   \n",
       "\n",
       "  If you're in the U.S., what state do you work in? What city do you work in?  \\\n",
       "0                                     Massachusetts                    Boston   \n",
       "1                                               NaN                 Cambridge   \n",
       "2                                         Tennessee               Chattanooga   \n",
       "3                                         Wisconsin                 Milwaukee   \n",
       "4                                    South Carolina                Greenville   \n",
       "\n",
       "  How many years of professional work experience do you have overall?  \\\n",
       "0                                          5-7 years                    \n",
       "1                                       8 - 10 years                    \n",
       "2                                        2 - 4 years                    \n",
       "3                                       8 - 10 years                    \n",
       "4                                       8 - 10 years                    \n",
       "\n",
       "  How many years of professional work experience do you have in your field?  \\\n",
       "0                                          5-7 years                          \n",
       "1                                          5-7 years                          \n",
       "2                                        2 - 4 years                          \n",
       "3                                          5-7 years                          \n",
       "4                                          5-7 years                          \n",
       "\n",
       "  What is your highest level of education completed? What is your gender?  \\\n",
       "0                                    Master's degree                Woman   \n",
       "1                                     College degree           Non-binary   \n",
       "2                                     College degree                Woman   \n",
       "3                                     College degree                Woman   \n",
       "4                                     College degree                Woman   \n",
       "\n",
       "  What is your race? (Choose all that apply.)  \n",
       "0                                       White  \n",
       "1                                       White  \n",
       "2                                       White  \n",
       "3                                       White  \n",
       "4                                       White  "
      ]
     },
     "execution_count": 106,
     "metadata": {},
     "output_type": "execute_result"
    }
   ],
   "source": [
    "df.head()"
   ]
  },
  {
   "cell_type": "code",
   "execution_count": 107,
   "metadata": {},
   "outputs": [
    {
     "name": "stdout",
     "output_type": "stream",
     "text": [
      "<class 'pandas.core.frame.DataFrame'>\n",
      "RangeIndex: 28061 entries, 0 to 28060\n",
      "Data columns (total 18 columns):\n",
      " #   Column                                                                     Non-Null Count  Dtype         \n",
      "---  ------                                                                     --------------  -----         \n",
      " 0   Timestamp                                                                  28061 non-null  datetime64[ns]\n",
      " 1   Age                                                                        28061 non-null  object        \n",
      " 2   Industry                                                                   27987 non-null  object        \n",
      " 3   Job title                                                                  28060 non-null  object        \n",
      " 4   additional job attribute                                                   7262 non-null   object        \n",
      " 5   Annual Salary                                                              28061 non-null  int64         \n",
      " 6   Additional Benifits                                                        20766 non-null  float64       \n",
      " 7   Currency                                                                   28061 non-null  object        \n",
      " 8   Other Currency                                                             205 non-null    object        \n",
      " 9   If your income needs additional context, please provide it here:           3042 non-null   object        \n",
      " 10  What country do you work in?                                               28061 non-null  object        \n",
      " 11  If you're in the U.S., what state do you work in?                          23039 non-null  object        \n",
      " 12  What city do you work in?                                                  27979 non-null  object        \n",
      " 13  How many years of professional work experience do you have overall?        28061 non-null  object        \n",
      " 14  How many years of professional work experience do you have in your field?  28061 non-null  object        \n",
      " 15  What is your highest level of education completed?                         27839 non-null  object        \n",
      " 16  What is your gender?                                                       27890 non-null  object        \n",
      " 17  What is your race? (Choose all that apply.)                                27884 non-null  object        \n",
      "dtypes: datetime64[ns](1), float64(1), int64(1), object(15)\n",
      "memory usage: 3.9+ MB\n"
     ]
    }
   ],
   "source": [
    "df.info()"
   ]
  },
  {
   "cell_type": "code",
   "execution_count": 108,
   "metadata": {},
   "outputs": [
    {
     "data": {
      "text/plain": [
       "Index(['Timestamp', 'Age', 'Industry', 'Job title', 'additional job attribute',\n",
       "       'Annual Salary', 'Additional Benifits', 'Currency', 'Other Currency',\n",
       "       'If your income needs additional context, please provide it here:',\n",
       "       'What country do you work in?',\n",
       "       'If you're in the U.S., what state do you work in?',\n",
       "       'What city do you work in?',\n",
       "       'How many years of professional work experience do you have overall?',\n",
       "       'How many years of professional work experience do you have in your field?',\n",
       "       'What is your highest level of education completed?',\n",
       "       'What is your gender?', 'What is your race? (Choose all that apply.)'],\n",
       "      dtype='object')"
      ]
     },
     "execution_count": 108,
     "metadata": {},
     "output_type": "execute_result"
    }
   ],
   "source": [
    "df.columns"
   ]
  },
  {
   "cell_type": "code",
   "execution_count": 109,
   "metadata": {},
   "outputs": [],
   "source": [
    "df.drop('Timestamp',axis=1,inplace=True)"
   ]
  },
  {
   "cell_type": "code",
   "execution_count": 110,
   "metadata": {},
   "outputs": [
    {
     "data": {
      "text/plain": [
       "Age                                                                              0\n",
       "Industry                                                                        74\n",
       "Job title                                                                        1\n",
       "additional job attribute                                                     20799\n",
       "Annual Salary                                                                    0\n",
       "Additional Benifits                                                           7295\n",
       "Currency                                                                         0\n",
       "Other Currency                                                               27856\n",
       "If your income needs additional context, please provide it here:             25019\n",
       "What country do you work in?                                                     0\n",
       "If you're in the U.S., what state do you work in?                             5022\n",
       "What city do you work in?                                                       82\n",
       "How many years of professional work experience do you have overall?              0\n",
       "How many years of professional work experience do you have in your field?        0\n",
       "What is your highest level of education completed?                             222\n",
       "What is your gender?                                                           171\n",
       "What is your race? (Choose all that apply.)                                    177\n",
       "dtype: int64"
      ]
     },
     "execution_count": 110,
     "metadata": {},
     "output_type": "execute_result"
    }
   ],
   "source": [
    "df.isnull().sum()"
   ]
  },
  {
   "cell_type": "code",
   "execution_count": 111,
   "metadata": {},
   "outputs": [
    {
     "data": {
      "text/plain": [
       "152"
      ]
     },
     "execution_count": 111,
     "metadata": {},
     "output_type": "execute_result"
    }
   ],
   "source": [
    "df.duplicated().sum()"
   ]
  },
  {
   "cell_type": "code",
   "execution_count": 112,
   "metadata": {},
   "outputs": [],
   "source": [
    "df.drop_duplicates(inplace=True)"
   ]
  },
  {
   "cell_type": "code",
   "execution_count": 113,
   "metadata": {},
   "outputs": [
    {
     "data": {
      "text/plain": [
       "0"
      ]
     },
     "execution_count": 113,
     "metadata": {},
     "output_type": "execute_result"
    }
   ],
   "source": [
    "df.duplicated().sum()"
   ]
  },
  {
   "cell_type": "code",
   "execution_count": 114,
   "metadata": {},
   "outputs": [
    {
     "data": {
      "text/plain": [
       "Currency\n",
       "USD        23239\n",
       "CAD         1666\n",
       "GBP         1587\n",
       "EUR          641\n",
       "AUD/NZD      500\n",
       "Other        159\n",
       "CHF           37\n",
       "SEK           37\n",
       "JPY           23\n",
       "ZAR           16\n",
       "HKD            4\n",
       "Name: count, dtype: int64"
      ]
     },
     "execution_count": 114,
     "metadata": {},
     "output_type": "execute_result"
    }
   ],
   "source": [
    "df['Currency'].value_counts()"
   ]
  },
  {
   "cell_type": "code",
   "execution_count": 115,
   "metadata": {},
   "outputs": [
    {
     "name": "stderr",
     "output_type": "stream",
     "text": [
      "C:\\Users\\awans\\AppData\\Local\\Temp\\ipykernel_7544\\250996170.py:1: FutureWarning: Setting an item of incompatible dtype is deprecated and will raise an error in a future version of pandas. Value '[2.38400000e+04 4.69350000e+04 8.94000000e+04 ... 1.22254500e+03\n",
      " 4.47005215e+09 1.36335000e+04]' has dtype incompatible with int64, please explicitly cast to a compatible dtype first.\n",
      "  df.loc[df['Currency'] == 'CAD', 'Annual Salary'] *= 0.745\n"
     ]
    }
   ],
   "source": [
    "df.loc[df['Currency'] == 'CAD', 'Annual Salary'] *= 0.745wsa\n",
    "df.loc[df['Currency'] == 'GBP', 'Annual Salary'] *= 1.315\n",
    "df.loc[df['Currency'] == 'EUR', 'Annual Salary'] *= 1.122\n",
    "df.loc[df['Currency'] == 'AUD/NZD', 'Annual Salary'] *= 0.63\n",
    "df.loc[df['Currency'] == 'CHF', 'Annual Salary'] *= 1.09\n",
    "df.loc[df['Currency'] == 'SEK', 'Annual Salary'] *= 1.315\n",
    "df.loc[df['Currency'] == 'JPY', 'Annual Salary'] *= 0.0093\n",
    "df.loc[df['Currency'] == 'ZAR', 'Annual Salary'] *= 0.065\n",
    "df.loc[df['Currency'] == 'HKD', 'Annual Salary'] *= 0.13\n"
   ]
  },
  {
   "cell_type": "code",
   "execution_count": 116,
   "metadata": {},
   "outputs": [
    {
     "data": {
      "text/plain": [
       "0"
      ]
     },
     "execution_count": 116,
     "metadata": {},
     "output_type": "execute_result"
    }
   ],
   "source": [
    "df['Currency'].isnull().sum()"
   ]
  },
  {
   "cell_type": "code",
   "execution_count": 117,
   "metadata": {},
   "outputs": [],
   "source": [
    "df.drop('Other Currency',inplace=True,axis=1)"
   ]
  },
  {
   "cell_type": "code",
   "execution_count": 118,
   "metadata": {},
   "outputs": [
    {
     "data": {
      "text/html": [
       "<div>\n",
       "<style scoped>\n",
       "    .dataframe tbody tr th:only-of-type {\n",
       "        vertical-align: middle;\n",
       "    }\n",
       "\n",
       "    .dataframe tbody tr th {\n",
       "        vertical-align: top;\n",
       "    }\n",
       "\n",
       "    .dataframe thead th {\n",
       "        text-align: right;\n",
       "    }\n",
       "</style>\n",
       "<table border=\"1\" class=\"dataframe\">\n",
       "  <thead>\n",
       "    <tr style=\"text-align: right;\">\n",
       "      <th></th>\n",
       "      <th>Age</th>\n",
       "      <th>Industry</th>\n",
       "      <th>Job title</th>\n",
       "      <th>additional job attribute</th>\n",
       "      <th>Annual Salary</th>\n",
       "      <th>Additional Benifits</th>\n",
       "      <th>Currency</th>\n",
       "      <th>If your income needs additional context, please provide it here:</th>\n",
       "      <th>What country do you work in?</th>\n",
       "      <th>If you're in the U.S., what state do you work in?</th>\n",
       "      <th>What city do you work in?</th>\n",
       "      <th>How many years of professional work experience do you have overall?</th>\n",
       "      <th>How many years of professional work experience do you have in your field?</th>\n",
       "      <th>What is your highest level of education completed?</th>\n",
       "      <th>What is your gender?</th>\n",
       "      <th>What is your race? (Choose all that apply.)</th>\n",
       "    </tr>\n",
       "  </thead>\n",
       "  <tbody>\n",
       "    <tr>\n",
       "      <th>0</th>\n",
       "      <td>25-34</td>\n",
       "      <td>Education (Higher Education)</td>\n",
       "      <td>Research and Instruction Librarian</td>\n",
       "      <td>NaN</td>\n",
       "      <td>55000.0</td>\n",
       "      <td>0.0</td>\n",
       "      <td>USD</td>\n",
       "      <td>NaN</td>\n",
       "      <td>United States</td>\n",
       "      <td>Massachusetts</td>\n",
       "      <td>Boston</td>\n",
       "      <td>5-7 years</td>\n",
       "      <td>5-7 years</td>\n",
       "      <td>Master's degree</td>\n",
       "      <td>Woman</td>\n",
       "      <td>White</td>\n",
       "    </tr>\n",
       "    <tr>\n",
       "      <th>1</th>\n",
       "      <td>25-34</td>\n",
       "      <td>Computing or Tech</td>\n",
       "      <td>Change &amp; Internal Communications Manager</td>\n",
       "      <td>NaN</td>\n",
       "      <td>71799.0</td>\n",
       "      <td>4000.0</td>\n",
       "      <td>GBP</td>\n",
       "      <td>NaN</td>\n",
       "      <td>United Kingdom</td>\n",
       "      <td>NaN</td>\n",
       "      <td>Cambridge</td>\n",
       "      <td>8 - 10 years</td>\n",
       "      <td>5-7 years</td>\n",
       "      <td>College degree</td>\n",
       "      <td>Non-binary</td>\n",
       "      <td>White</td>\n",
       "    </tr>\n",
       "    <tr>\n",
       "      <th>2</th>\n",
       "      <td>25-34</td>\n",
       "      <td>Accounting, Banking &amp; Finance</td>\n",
       "      <td>Marketing Specialist</td>\n",
       "      <td>NaN</td>\n",
       "      <td>34000.0</td>\n",
       "      <td>NaN</td>\n",
       "      <td>USD</td>\n",
       "      <td>NaN</td>\n",
       "      <td>US</td>\n",
       "      <td>Tennessee</td>\n",
       "      <td>Chattanooga</td>\n",
       "      <td>2 - 4 years</td>\n",
       "      <td>2 - 4 years</td>\n",
       "      <td>College degree</td>\n",
       "      <td>Woman</td>\n",
       "      <td>White</td>\n",
       "    </tr>\n",
       "    <tr>\n",
       "      <th>3</th>\n",
       "      <td>25-34</td>\n",
       "      <td>Nonprofits</td>\n",
       "      <td>Program Manager</td>\n",
       "      <td>NaN</td>\n",
       "      <td>62000.0</td>\n",
       "      <td>3000.0</td>\n",
       "      <td>USD</td>\n",
       "      <td>NaN</td>\n",
       "      <td>USA</td>\n",
       "      <td>Wisconsin</td>\n",
       "      <td>Milwaukee</td>\n",
       "      <td>8 - 10 years</td>\n",
       "      <td>5-7 years</td>\n",
       "      <td>College degree</td>\n",
       "      <td>Woman</td>\n",
       "      <td>White</td>\n",
       "    </tr>\n",
       "    <tr>\n",
       "      <th>4</th>\n",
       "      <td>25-34</td>\n",
       "      <td>Accounting, Banking &amp; Finance</td>\n",
       "      <td>Accounting Manager</td>\n",
       "      <td>NaN</td>\n",
       "      <td>60000.0</td>\n",
       "      <td>7000.0</td>\n",
       "      <td>USD</td>\n",
       "      <td>NaN</td>\n",
       "      <td>US</td>\n",
       "      <td>South Carolina</td>\n",
       "      <td>Greenville</td>\n",
       "      <td>8 - 10 years</td>\n",
       "      <td>5-7 years</td>\n",
       "      <td>College degree</td>\n",
       "      <td>Woman</td>\n",
       "      <td>White</td>\n",
       "    </tr>\n",
       "  </tbody>\n",
       "</table>\n",
       "</div>"
      ],
      "text/plain": [
       "     Age                       Industry  \\\n",
       "0  25-34   Education (Higher Education)   \n",
       "1  25-34              Computing or Tech   \n",
       "2  25-34  Accounting, Banking & Finance   \n",
       "3  25-34                     Nonprofits   \n",
       "4  25-34  Accounting, Banking & Finance   \n",
       "\n",
       "                                  Job title additional job attribute  \\\n",
       "0        Research and Instruction Librarian                      NaN   \n",
       "1  Change & Internal Communications Manager                      NaN   \n",
       "2                      Marketing Specialist                      NaN   \n",
       "3                           Program Manager                      NaN   \n",
       "4                        Accounting Manager                      NaN   \n",
       "\n",
       "   Annual Salary  Additional Benifits Currency  \\\n",
       "0        55000.0                  0.0      USD   \n",
       "1        71799.0               4000.0      GBP   \n",
       "2        34000.0                  NaN      USD   \n",
       "3        62000.0               3000.0      USD   \n",
       "4        60000.0               7000.0      USD   \n",
       "\n",
       "  If your income needs additional context, please provide it here:  \\\n",
       "0                                                NaN                 \n",
       "1                                                NaN                 \n",
       "2                                                NaN                 \n",
       "3                                                NaN                 \n",
       "4                                                NaN                 \n",
       "\n",
       "  What country do you work in?  \\\n",
       "0                United States   \n",
       "1               United Kingdom   \n",
       "2                           US   \n",
       "3                          USA   \n",
       "4                           US   \n",
       "\n",
       "  If you're in the U.S., what state do you work in? What city do you work in?  \\\n",
       "0                                     Massachusetts                    Boston   \n",
       "1                                               NaN                 Cambridge   \n",
       "2                                         Tennessee               Chattanooga   \n",
       "3                                         Wisconsin                 Milwaukee   \n",
       "4                                    South Carolina                Greenville   \n",
       "\n",
       "  How many years of professional work experience do you have overall?  \\\n",
       "0                                          5-7 years                    \n",
       "1                                       8 - 10 years                    \n",
       "2                                        2 - 4 years                    \n",
       "3                                       8 - 10 years                    \n",
       "4                                       8 - 10 years                    \n",
       "\n",
       "  How many years of professional work experience do you have in your field?  \\\n",
       "0                                          5-7 years                          \n",
       "1                                          5-7 years                          \n",
       "2                                        2 - 4 years                          \n",
       "3                                          5-7 years                          \n",
       "4                                          5-7 years                          \n",
       "\n",
       "  What is your highest level of education completed? What is your gender?  \\\n",
       "0                                    Master's degree                Woman   \n",
       "1                                     College degree           Non-binary   \n",
       "2                                     College degree                Woman   \n",
       "3                                     College degree                Woman   \n",
       "4                                     College degree                Woman   \n",
       "\n",
       "  What is your race? (Choose all that apply.)  \n",
       "0                                       White  \n",
       "1                                       White  \n",
       "2                                       White  \n",
       "3                                       White  \n",
       "4                                       White  "
      ]
     },
     "execution_count": 118,
     "metadata": {},
     "output_type": "execute_result"
    }
   ],
   "source": [
    "df.head()"
   ]
  },
  {
   "cell_type": "code",
   "execution_count": 119,
   "metadata": {},
   "outputs": [],
   "source": [
    "df.drop('additional job attribute',axis=1,inplace=True)\n",
    "df.drop('If your income needs additional context, please provide it here:',axis=1,inplace=True)\n",
    "df.drop('Additional Benifits',axis=1,inplace=True)\n"
   ]
  },
  {
   "cell_type": "code",
   "execution_count": 120,
   "metadata": {},
   "outputs": [
    {
     "data": {
      "text/plain": [
       "Index(['Age', 'Industry', 'Job title', 'Annual Salary', 'Currency',\n",
       "       'What country do you work in?',\n",
       "       'If you're in the U.S., what state do you work in?',\n",
       "       'What city do you work in?',\n",
       "       'How many years of professional work experience do you have overall?',\n",
       "       'How many years of professional work experience do you have in your field?',\n",
       "       'What is your highest level of education completed?',\n",
       "       'What is your gender?', 'What is your race? (Choose all that apply.)'],\n",
       "      dtype='object')"
      ]
     },
     "execution_count": 120,
     "metadata": {},
     "output_type": "execute_result"
    }
   ],
   "source": [
    "df.columns"
   ]
  },
  {
   "cell_type": "code",
   "execution_count": 121,
   "metadata": {},
   "outputs": [],
   "source": [
    "df.rename(columns={'What country do you work in?':'Working In',\n",
    "                   \"If you're in the U.S., what state do you work in?\":'US State',\n",
    "                   'What city do you work in?':'City',\n",
    "                   'How many years of professional work experience do you have overall?':'Years of Experience',\n",
    "                   'How many years of professional work experience do you have in your field?': 'Present Field Experience',\n",
    "                    'What is your highest level of education completed?':'Education',\n",
    "                    'What is your gender?':'Gender',\n",
    "                     'What is your race? (Choose all that apply.)':'Race'\n",
    "                   \n",
    "                   \n",
    "                   },inplace=True)"
   ]
  },
  {
   "cell_type": "code",
   "execution_count": 122,
   "metadata": {},
   "outputs": [
    {
     "data": {
      "text/plain": [
       "Index(['Age', 'Industry', 'Job title', 'Annual Salary', 'Currency',\n",
       "       'Working In', 'US State', 'City', 'Years of Experience',\n",
       "       'Present Field Experience', 'Education', 'Gender', 'Race'],\n",
       "      dtype='object')"
      ]
     },
     "execution_count": 122,
     "metadata": {},
     "output_type": "execute_result"
    }
   ],
   "source": [
    "df.columns"
   ]
  },
  {
   "cell_type": "code",
   "execution_count": 123,
   "metadata": {},
   "outputs": [
    {
     "data": {
      "text/plain": [
       "0         55000.0\n",
       "1         71799.0\n",
       "2         34000.0\n",
       "3         62000.0\n",
       "4         60000.0\n",
       "           ...   \n",
       "28056     13633.5\n",
       "28057    135000.0\n",
       "28058    109000.0\n",
       "28059      1200.0\n",
       "28060      1700.0\n",
       "Name: Annual Salary, Length: 27909, dtype: float64"
      ]
     },
     "execution_count": 123,
     "metadata": {},
     "output_type": "execute_result"
    }
   ],
   "source": [
    "df['Annual Salary'].astype(float)"
   ]
  },
  {
   "cell_type": "code",
   "execution_count": 124,
   "metadata": {},
   "outputs": [
    {
     "data": {
      "text/html": [
       "<div>\n",
       "<style scoped>\n",
       "    .dataframe tbody tr th:only-of-type {\n",
       "        vertical-align: middle;\n",
       "    }\n",
       "\n",
       "    .dataframe tbody tr th {\n",
       "        vertical-align: top;\n",
       "    }\n",
       "\n",
       "    .dataframe thead th {\n",
       "        text-align: right;\n",
       "    }\n",
       "</style>\n",
       "<table border=\"1\" class=\"dataframe\">\n",
       "  <thead>\n",
       "    <tr style=\"text-align: right;\">\n",
       "      <th></th>\n",
       "      <th>Age</th>\n",
       "      <th>Industry</th>\n",
       "      <th>Job title</th>\n",
       "      <th>Annual Salary</th>\n",
       "      <th>Currency</th>\n",
       "      <th>Working In</th>\n",
       "      <th>US State</th>\n",
       "      <th>City</th>\n",
       "      <th>Years of Experience</th>\n",
       "      <th>Present Field Experience</th>\n",
       "      <th>Education</th>\n",
       "      <th>Gender</th>\n",
       "      <th>Race</th>\n",
       "    </tr>\n",
       "  </thead>\n",
       "  <tbody>\n",
       "    <tr>\n",
       "      <th>360</th>\n",
       "      <td>45-54</td>\n",
       "      <td>NaN</td>\n",
       "      <td>Proposal Manager</td>\n",
       "      <td>8.793800e+04</td>\n",
       "      <td>USD</td>\n",
       "      <td>US</td>\n",
       "      <td>North Carolina</td>\n",
       "      <td>Wilmington</td>\n",
       "      <td>21 - 30 years</td>\n",
       "      <td>11 - 20 years</td>\n",
       "      <td>College degree</td>\n",
       "      <td>Woman</td>\n",
       "      <td>White</td>\n",
       "    </tr>\n",
       "    <tr>\n",
       "      <th>645</th>\n",
       "      <td>35-44</td>\n",
       "      <td>NaN</td>\n",
       "      <td>Legal editor</td>\n",
       "      <td>8.200000e+04</td>\n",
       "      <td>USD</td>\n",
       "      <td>USA</td>\n",
       "      <td>New York</td>\n",
       "      <td>Rochester</td>\n",
       "      <td>11 - 20 years</td>\n",
       "      <td>11 - 20 years</td>\n",
       "      <td>Master's degree</td>\n",
       "      <td>Woman</td>\n",
       "      <td>White</td>\n",
       "    </tr>\n",
       "    <tr>\n",
       "      <th>1604</th>\n",
       "      <td>25-34</td>\n",
       "      <td>NaN</td>\n",
       "      <td>Commissioning Editor</td>\n",
       "      <td>4.734000e+04</td>\n",
       "      <td>GBP</td>\n",
       "      <td>UK</td>\n",
       "      <td>NaN</td>\n",
       "      <td>London</td>\n",
       "      <td>11 - 20 years</td>\n",
       "      <td>8 - 10 years</td>\n",
       "      <td>Master's degree</td>\n",
       "      <td>Woman</td>\n",
       "      <td>Asian or Asian American, White</td>\n",
       "    </tr>\n",
       "    <tr>\n",
       "      <th>2055</th>\n",
       "      <td>35-44</td>\n",
       "      <td>NaN</td>\n",
       "      <td>Research Manager</td>\n",
       "      <td>1.150000e+05</td>\n",
       "      <td>USD</td>\n",
       "      <td>US</td>\n",
       "      <td>District of Columbia</td>\n",
       "      <td>DC</td>\n",
       "      <td>21 - 30 years</td>\n",
       "      <td>11 - 20 years</td>\n",
       "      <td>Master's degree</td>\n",
       "      <td>Woman</td>\n",
       "      <td>White</td>\n",
       "    </tr>\n",
       "    <tr>\n",
       "      <th>2063</th>\n",
       "      <td>35-44</td>\n",
       "      <td>NaN</td>\n",
       "      <td>office manager</td>\n",
       "      <td>4.000000e+04</td>\n",
       "      <td>USD</td>\n",
       "      <td>USA</td>\n",
       "      <td>Nevada</td>\n",
       "      <td>Las Vegas</td>\n",
       "      <td>11 - 20 years</td>\n",
       "      <td>11 - 20 years</td>\n",
       "      <td>High School</td>\n",
       "      <td>Woman</td>\n",
       "      <td>White</td>\n",
       "    </tr>\n",
       "    <tr>\n",
       "      <th>...</th>\n",
       "      <td>...</td>\n",
       "      <td>...</td>\n",
       "      <td>...</td>\n",
       "      <td>...</td>\n",
       "      <td>...</td>\n",
       "      <td>...</td>\n",
       "      <td>...</td>\n",
       "      <td>...</td>\n",
       "      <td>...</td>\n",
       "      <td>...</td>\n",
       "      <td>...</td>\n",
       "      <td>...</td>\n",
       "      <td>...</td>\n",
       "    </tr>\n",
       "    <tr>\n",
       "      <th>27730</th>\n",
       "      <td>18-24</td>\n",
       "      <td>NaN</td>\n",
       "      <td>chief executive official</td>\n",
       "      <td>3.250000e+00</td>\n",
       "      <td>ZAR</td>\n",
       "      <td>spain</td>\n",
       "      <td>NaN</td>\n",
       "      <td>castellon</td>\n",
       "      <td>8 - 10 years</td>\n",
       "      <td>11 - 20 years</td>\n",
       "      <td>NaN</td>\n",
       "      <td>NaN</td>\n",
       "      <td>NaN</td>\n",
       "    </tr>\n",
       "    <tr>\n",
       "      <th>27853</th>\n",
       "      <td>18-24</td>\n",
       "      <td>NaN</td>\n",
       "      <td>Archivist</td>\n",
       "      <td>5.000000e+04</td>\n",
       "      <td>USD</td>\n",
       "      <td>United States</td>\n",
       "      <td>Wisconsin</td>\n",
       "      <td>Madison</td>\n",
       "      <td>2 - 4 years</td>\n",
       "      <td>2 - 4 years</td>\n",
       "      <td>Master's degree</td>\n",
       "      <td>Man</td>\n",
       "      <td>White</td>\n",
       "    </tr>\n",
       "    <tr>\n",
       "      <th>27902</th>\n",
       "      <td>35-44</td>\n",
       "      <td>NaN</td>\n",
       "      <td>Senior IT Consultant</td>\n",
       "      <td>1.200000e+08</td>\n",
       "      <td>Other</td>\n",
       "      <td>Colombia</td>\n",
       "      <td>NaN</td>\n",
       "      <td>Bogota</td>\n",
       "      <td>11 - 20 years</td>\n",
       "      <td>8 - 10 years</td>\n",
       "      <td>College degree</td>\n",
       "      <td>Man</td>\n",
       "      <td>Hispanic, Latino, or Spanish origin</td>\n",
       "    </tr>\n",
       "    <tr>\n",
       "      <th>28006</th>\n",
       "      <td>under 18</td>\n",
       "      <td>NaN</td>\n",
       "      <td>vv</td>\n",
       "      <td>7.600000e+01</td>\n",
       "      <td>USD</td>\n",
       "      <td>us</td>\n",
       "      <td>NaN</td>\n",
       "      <td>irving</td>\n",
       "      <td>1 year or less</td>\n",
       "      <td>1 year or less</td>\n",
       "      <td>NaN</td>\n",
       "      <td>NaN</td>\n",
       "      <td>NaN</td>\n",
       "    </tr>\n",
       "    <tr>\n",
       "      <th>28021</th>\n",
       "      <td>18-24</td>\n",
       "      <td>NaN</td>\n",
       "      <td>bum</td>\n",
       "      <td>1.000000e+07</td>\n",
       "      <td>USD</td>\n",
       "      <td>usa</td>\n",
       "      <td>Alaska</td>\n",
       "      <td>Rice</td>\n",
       "      <td>41 years or more</td>\n",
       "      <td>8 - 10 years</td>\n",
       "      <td>Professional degree (MD, JD, etc.)</td>\n",
       "      <td>Non-binary</td>\n",
       "      <td>White</td>\n",
       "    </tr>\n",
       "  </tbody>\n",
       "</table>\n",
       "<p>74 rows × 13 columns</p>\n",
       "</div>"
      ],
      "text/plain": [
       "            Age Industry                 Job title  Annual Salary Currency  \\\n",
       "360       45-54      NaN          Proposal Manager   8.793800e+04      USD   \n",
       "645       35-44      NaN              Legal editor   8.200000e+04      USD   \n",
       "1604      25-34      NaN     Commissioning Editor    4.734000e+04      GBP   \n",
       "2055      35-44      NaN          Research Manager   1.150000e+05      USD   \n",
       "2063      35-44      NaN            office manager   4.000000e+04      USD   \n",
       "...         ...      ...                       ...            ...      ...   \n",
       "27730     18-24      NaN  chief executive official   3.250000e+00      ZAR   \n",
       "27853     18-24      NaN                 Archivist   5.000000e+04      USD   \n",
       "27902     35-44      NaN      Senior IT Consultant   1.200000e+08    Other   \n",
       "28006  under 18      NaN                        vv   7.600000e+01      USD   \n",
       "28021     18-24      NaN                       bum   1.000000e+07      USD   \n",
       "\n",
       "          Working In              US State        City Years of Experience  \\\n",
       "360               US        North Carolina  Wilmington       21 - 30 years   \n",
       "645              USA              New York   Rochester       11 - 20 years   \n",
       "1604              UK                   NaN      London       11 - 20 years   \n",
       "2055              US  District of Columbia          DC       21 - 30 years   \n",
       "2063             USA                Nevada   Las Vegas       11 - 20 years   \n",
       "...              ...                   ...         ...                 ...   \n",
       "27730          spain                   NaN   castellon        8 - 10 years   \n",
       "27853  United States             Wisconsin     Madison         2 - 4 years   \n",
       "27902       Colombia                   NaN      Bogota       11 - 20 years   \n",
       "28006             us                   NaN      irving      1 year or less   \n",
       "28021            usa                Alaska        Rice    41 years or more   \n",
       "\n",
       "      Present Field Experience                           Education  \\\n",
       "360              11 - 20 years                      College degree   \n",
       "645              11 - 20 years                     Master's degree   \n",
       "1604              8 - 10 years                     Master's degree   \n",
       "2055             11 - 20 years                     Master's degree   \n",
       "2063             11 - 20 years                         High School   \n",
       "...                        ...                                 ...   \n",
       "27730            11 - 20 years                                 NaN   \n",
       "27853              2 - 4 years                     Master's degree   \n",
       "27902             8 - 10 years                      College degree   \n",
       "28006           1 year or less                                 NaN   \n",
       "28021             8 - 10 years  Professional degree (MD, JD, etc.)   \n",
       "\n",
       "           Gender                                 Race  \n",
       "360         Woman                                White  \n",
       "645         Woman                                White  \n",
       "1604        Woman       Asian or Asian American, White  \n",
       "2055        Woman                                White  \n",
       "2063        Woman                                White  \n",
       "...           ...                                  ...  \n",
       "27730         NaN                                  NaN  \n",
       "27853         Man                                White  \n",
       "27902         Man  Hispanic, Latino, or Spanish origin  \n",
       "28006         NaN                                  NaN  \n",
       "28021  Non-binary                                White  \n",
       "\n",
       "[74 rows x 13 columns]"
      ]
     },
     "execution_count": 124,
     "metadata": {},
     "output_type": "execute_result"
    }
   ],
   "source": [
    "df[df['Industry'].isna()]"
   ]
  },
  {
   "cell_type": "code",
   "execution_count": 125,
   "metadata": {},
   "outputs": [],
   "source": [
    "df['Annual Salary'] = df['Annual Salary'].astype(int)"
   ]
  },
  {
   "cell_type": "code",
   "execution_count": 126,
   "metadata": {},
   "outputs": [],
   "source": [
    "df = df[df['Currency'] != 'Other']"
   ]
  },
  {
   "cell_type": "code",
   "execution_count": 127,
   "metadata": {},
   "outputs": [
    {
     "data": {
      "text/plain": [
       "Currency\n",
       "USD        23239\n",
       "CAD         1666\n",
       "GBP         1587\n",
       "EUR          641\n",
       "AUD/NZD      500\n",
       "CHF           37\n",
       "SEK           37\n",
       "JPY           23\n",
       "ZAR           16\n",
       "HKD            4\n",
       "Name: count, dtype: int64"
      ]
     },
     "execution_count": 127,
     "metadata": {},
     "output_type": "execute_result"
    }
   ],
   "source": [
    "df['Currency'].value_counts()"
   ]
  },
  {
   "cell_type": "code",
   "execution_count": 128,
   "metadata": {},
   "outputs": [],
   "source": [
    "df.dropna(subset=['Gender'], inplace=True)\n"
   ]
  },
  {
   "cell_type": "code",
   "execution_count": 129,
   "metadata": {},
   "outputs": [
    {
     "data": {
      "text/plain": [
       "Gender\n",
       "Woman                            21155\n",
       "Man                               5395\n",
       "Non-binary                         738\n",
       "Other or prefer not to answer      291\n",
       "Prefer not to answer                 1\n",
       "Name: count, dtype: int64"
      ]
     },
     "execution_count": 129,
     "metadata": {},
     "output_type": "execute_result"
    }
   ],
   "source": [
    "df['Gender'].value_counts()"
   ]
  },
  {
   "cell_type": "code",
   "execution_count": 130,
   "metadata": {},
   "outputs": [
    {
     "data": {
      "text/plain": [
       "Age                            0\n",
       "Industry                      71\n",
       "Job title                      1\n",
       "Annual Salary                  0\n",
       "Currency                       0\n",
       "Working In                     0\n",
       "US State                    4819\n",
       "City                          82\n",
       "Years of Experience            0\n",
       "Present Field Experience       0\n",
       "Education                    174\n",
       "Gender                         0\n",
       "Race                         114\n",
       "dtype: int64"
      ]
     },
     "execution_count": 130,
     "metadata": {},
     "output_type": "execute_result"
    }
   ],
   "source": [
    "df.isnull().sum()"
   ]
  },
  {
   "cell_type": "code",
   "execution_count": 131,
   "metadata": {},
   "outputs": [
    {
     "name": "stderr",
     "output_type": "stream",
     "text": [
      "C:\\Users\\awans\\AppData\\Local\\Temp\\ipykernel_7544\\3638122262.py:1: FutureWarning: A value is trying to be set on a copy of a DataFrame or Series through chained assignment using an inplace method.\n",
      "The behavior will change in pandas 3.0. This inplace method will never work because the intermediate object on which we are setting values always behaves as a copy.\n",
      "\n",
      "For example, when doing 'df[col].method(value, inplace=True)', try using 'df.method({col: value}, inplace=True)' or df[col] = df[col].method(value) instead, to perform the operation inplace on the original object.\n",
      "\n",
      "\n",
      "  df['Race'].fillna('Prefer Not to Say',inplace=True)\n"
     ]
    }
   ],
   "source": [
    "df['Race'].fillna('Prefer Not to Say',inplace=True)\n",
    "df['Race'].fillna('',inplace=True)"
   ]
  },
  {
   "cell_type": "code",
   "execution_count": 132,
   "metadata": {},
   "outputs": [],
   "source": [
    "df.dropna(subset=['Industry'], inplace=True)\n",
    "df.dropna(subset=['Job title'], inplace=True)\n",
    "df.dropna(subset=['Education'], inplace=True)"
   ]
  },
  {
   "cell_type": "code",
   "execution_count": 133,
   "metadata": {},
   "outputs": [
    {
     "data": {
      "text/plain": [
       "array(['United States', 'United Kingdom', 'US', 'USA', 'Canada',\n",
       "       'United Kingdom ', 'usa', 'UK', 'Scotland ', 'U.S.',\n",
       "       'United States ', 'The Netherlands', 'Australia ', 'Spain', 'us',\n",
       "       'Usa', 'England', 'finland', 'United States of America', 'France',\n",
       "       'United states', 'Scotland', 'USA ', 'United states ', 'Germany',\n",
       "       'UK ', 'united states', 'Ireland', 'Australia', 'Uk',\n",
       "       'United States of America ', 'U.S. ', 'canada', 'Canada ', 'U.S>',\n",
       "       'ISA', 'Great Britain ', 'US ', 'United State', 'U.S.A', 'Denmark',\n",
       "       'U.S.A.', 'America', 'Netherlands', 'netherlands', 'England ',\n",
       "       'united states of america', 'Ireland ', 'Switzerland',\n",
       "       'Netherlands ', 'Bermuda', 'Us', 'The United States',\n",
       "       'United State of America', 'Mexico ', 'United Stated',\n",
       "       'South Africa ', 'Belgium', 'Northern Ireland', 'u.s.',\n",
       "       'South Africa', 'UNITED STATES', 'united States', 'Sweden',\n",
       "       'Hong Kong', 'Kuwait', 'Sri lanka', 'Contracts',\n",
       "       'USA-- Virgin Islands', 'United Statws', 'England/UK', 'U.S',\n",
       "       \"We don't get raises, we get quarterly bonuses, but they periodically asses income in the area you work, so I got a raise because a 3rd party assessment showed I was paid too little for the area we were located\",\n",
       "       'Unites States ', 'Usa ', 'U.S.A. ', 'England, UK.', 'Greece',\n",
       "       'U. S. ', 'Britain ', 'United Sates', 'Austria',\n",
       "       'Canada, Ottawa, ontario', 'Global', 'Sweden ',\n",
       "       'United States of American ', 'FRANCE', 'Uniited States',\n",
       "       'United Kingdom (England)',\n",
       "       'Worldwide (based in US but short term trips aroudn the world)',\n",
       "       'CANADA ', 'Canadw', 'Luxembourg', 'United Sates of America',\n",
       "       'ireland',\n",
       "       'United States (I work from home and my clients are all over the US/Canada/PR',\n",
       "       'Colombia', 'CANADA', 'Unted States', 'germany', 'United Statesp',\n",
       "       'United Stattes', 'United Statea', 'United Kingdom.', 'Mexico',\n",
       "       'New Zealand', 'Unites States', 'United Statees', 'United kingdom',\n",
       "       'Cayman Islands', 'Can',\n",
       "       'I am located in Canada but I work for a company in the US',\n",
       "       'United kingdom ', 'Germany ', 'Uniyed states', 'Uniyes States',\n",
       "       'United States of Americas', 'U.A.', 'Latvia', 'Finland', 'U. S.',\n",
       "       'Puerto Rico', 'US of A', 'Rwanda', 'United States of america ',\n",
       "       'United Arab Emirates ', 'Spain ', 'U.K. ', 'Romania', 'U.SA',\n",
       "       'United Kindom', 'United Status', 'New Zealand ',\n",
       "       'Currently finance', ' U.S.', 'Serbia', 'Russia ', 'UXZ',\n",
       "       'England, UK', 'Canda', 'Puerto Rico ', 'Canada and USA',\n",
       "       'Catalonia', '$2,175.84/year is deducted for benefits', 'uk',\n",
       "       'France ', 'Italy (South)', 'Jersey, Channel islands', 'Uk ',\n",
       "       'Virginia', 'Afghanistan', 'U.s.', 'Great Britain', 'U.s.a.',\n",
       "       'USS', 'Uniteed States', 'New Zealand Aotearoa', 'U.K.',\n",
       "       'Hartford', 'Japan, US Gov position', 'Csnada', 'United Stares',\n",
       "       'New zealand', 'I.S.', 'UK (Northern Ireland)',\n",
       "       'UK for U.S. company', 'Japan', ' US', 'Unites states ', 'NZ',\n",
       "       'Us ', 'Hong Kong ', 'Canad', 'Unite States', 'australia',\n",
       "       'The US', 'China', 'united states ', 'The Netherlands ',\n",
       "       'Cambodia', 'United states of America ', 'Vietnam', 'Remote',\n",
       "       'India', 'Bangladesh', 'Israel', 'Lithuania', 'Eritrea',\n",
       "       'For the United States government, but posted overseas', 'IS',\n",
       "       'Switzerland ', 'United Kingdomk', 'Italy', 'Norway',\n",
       "       ' New Zealand', 'Cuba', 'Slovenia', 'Australi', \"Cote d'Ivoire\",\n",
       "       'united kingdom', 'From Romania, but for an US based company',\n",
       "       'Somalia', 'Wales (United Kingdom)', 'England, Gb', 'UnitedStates',\n",
       "       'Danmark', 'U.K. (northern England)', 'U.K', 'Malaysia', 'NL',\n",
       "       'the Netherlands', 'Nederland', 'Slovakia',\n",
       "       'United States of america', 'Portugal ', 'England, United Kingdom',\n",
       "       'Sierra Leone', 'Englang', 'United statew', 'UAE', 'Singapore',\n",
       "       'International ', 'The Bahamas ', 'Wales',\n",
       "       \"I earn commission on sales. If I meet quota, I'm guaranteed another 16k min. Last year i earned an additional 27k. It's not uncommon for people in my space to earn 100k+ after commission. \",\n",
       "       'Costa Rica', ' United States', 'United Statues', 'Argentina',\n",
       "       'Untied States', 'Chile', 'denmark', 'UK (England)', 'UK, remote',\n",
       "       'Scotland, UK', 'USAB', 'Unitied States', 'Norway ', 'Qatar',\n",
       "       'United Sttes', 'Hungary', 'Remote (philippines)',\n",
       "       'Unites kingdom ', 'South africa', 'Portugal', 'united stated',\n",
       "       'United States Of America', 'Nigeria', 'Panamá',\n",
       "       'Northern Ireland ', 'england', 'SWITZERLAND', 'Brazil',\n",
       "       'Austria, but I work remotely for a Dutch/British company',\n",
       "       'I was brought in on this salary to help with the EHR and very quickly was promoted to current position but compensation was not altered. ',\n",
       "       'Uniter Statez', 'U. S ', 'Congo', 'United states of America',\n",
       "       'Uruguay', 'Pakistan', 'USA tomorrow ', 'United Stateds',\n",
       "       'n/a (remote from wherever I want)', 'singapore',\n",
       "       'US govt employee overseas, country withheld', 'usa ', 'Malaysia ',\n",
       "       'Uganda', 'Philippines', 'Poland', 'Belgium ', 'Malta', 'Bulgaria',\n",
       "       'Estonia', 'Morocco', 'new zealand', 'Africa', 'Ecuador',\n",
       "       'Zimbabwe', 'Ghana', 'San Francisco', 'Japan ', 'Usat', '🇺🇸 ',\n",
       "       'Luxemburg', 'Unitef Stated', 'UA', 'Wales, UK', 'United Stares ',\n",
       "       'Croatia ', 'England, United Kingdom ', 'United STates', 'USaa',\n",
       "       'uSA', 'South Korea ', 'The netherlands', 'Ukraine ', 'spain',\n",
       "       'america', 'switzerland', 'United States- Puerto Rico',\n",
       "       'From New Zealand but on projects across APAC', 'Y', 'United y',\n",
       "       'Thailand', 'Wales (UK)', 'Isle of Man',\n",
       "       'Northern Ireland, United Kingdom', 'europe', 'California ',\n",
       "       'UK, but for globally fully remote company', 'Australian ',\n",
       "       'Jamaica', 'uS', 'USD', 'the netherlands',\n",
       "       \"USA, but for foreign gov't\", 'japan', 'Kenya', 'Jordan',\n",
       "       'United Statss', 'United states of america', 'UsA',\n",
       "       'I work for a UAE-based organization, though I am personally in the US.',\n",
       "       'United  States', 'france', 'Aotearoa New Zealand', 'na', 'Policy',\n",
       "       'Cyprus', 'hong konh', 'United States is America', 'Liechtenstein',\n",
       "       'Company in Germany. I work from Pakistan.', 'Canadá', 'ENGLAND',\n",
       "       'United States of American', 'U.S.A ', 'Bosnia and Herzegovina',\n",
       "       'pakistan', 'Nigeria ', 'London', 'ss', 'dbfemf', 'Saudi Arabia',\n",
       "       'LOUTRELAND', 'philippines', 'Myanmar', 'Burma'], dtype=object)"
      ]
     },
     "execution_count": 133,
     "metadata": {},
     "output_type": "execute_result"
    }
   ],
   "source": [
    "df['Working In'].unique()"
   ]
  },
  {
   "cell_type": "code",
   "execution_count": 134,
   "metadata": {},
   "outputs": [
    {
     "data": {
      "text/plain": [
       "array(['United States', 'United Kingdom', 'US', 'USA', 'United Kingdom ',\n",
       "       'UK', 'U.S.', 'United States ', 'Usa', 'United States of America',\n",
       "       'United states', 'USA ', 'United states ', 'UK ', 'Uk',\n",
       "       'United States of America ', 'U.S. ', 'U.S>', 'US ',\n",
       "       'United State', 'U.S.A', 'U.S.A.', 'Us', 'United State of America',\n",
       "       'United Stated', 'UNITED STATES', 'USA-- Virgin Islands',\n",
       "       'United Statws', 'U.S', 'Unites States ', 'Usa ', 'U.S.A. ',\n",
       "       'U. S. ', 'United Sates', 'United States of American ',\n",
       "       'Uniited States', 'United Kingdom (England)',\n",
       "       'United Sates of America',\n",
       "       'United States (I work from home and my clients are all over the US/Canada/PR',\n",
       "       'Unted States', 'United Statesp', 'United Stattes',\n",
       "       'United Statea', 'United Kingdom.', 'Unites States',\n",
       "       'United Statees', 'United kingdom', 'United kingdom ',\n",
       "       'Uniyed states', 'Uniyes States', 'United States of Americas',\n",
       "       'U.A.', 'U. S.', 'US of A', 'United States of america ',\n",
       "       'United Arab Emirates ', 'U.K. ', 'U.SA', 'United Kindom',\n",
       "       'United Status', 'UXZ', 'Uk ', 'U.s.', 'U.s.a.', 'USS',\n",
       "       'Uniteed States', 'U.K.', 'United Stares', 'UK (Northern Ireland)',\n",
       "       'UK for U.S. company', 'Unites states ', 'Us ', 'Unite States',\n",
       "       'United states of America ', 'United Kingdomk', 'UnitedStates',\n",
       "       'U.K. (northern England)', 'U.K', 'United States of america',\n",
       "       'United statew', 'UAE', 'United Statues', 'Untied States',\n",
       "       'UK (England)', 'UK, remote', 'USAB', 'Unitied States',\n",
       "       'United Sttes', 'Unites kingdom ', 'United States Of America',\n",
       "       'Uniter Statez', 'U. S ', 'United states of America', 'Uruguay',\n",
       "       'USA tomorrow ', 'United Stateds',\n",
       "       'US govt employee overseas, country withheld', 'Uganda', 'Usat',\n",
       "       'Unitef Stated', 'UA', 'United Stares ', 'United STates', 'USaa',\n",
       "       'Ukraine ', 'United States- Puerto Rico', 'United y',\n",
       "       'UK, but for globally fully remote company', 'USD',\n",
       "       \"USA, but for foreign gov't\", 'United Statss',\n",
       "       'United states of america', 'UsA', 'United  States',\n",
       "       'United States is America', 'United States of American', 'U.S.A '],\n",
       "      dtype=object)"
      ]
     },
     "execution_count": 134,
     "metadata": {},
     "output_type": "execute_result"
    }
   ],
   "source": [
    "US_states=df['Working In'][df['Working In'].str.startswith('U')].unique()\n",
    "US_states"
   ]
  },
  {
   "cell_type": "code",
   "execution_count": 9,
   "metadata": {},
   "outputs": [],
   "source": [
    "usa_entries = [\n",
    "    'USA',\n",
    "    'usa',\n",
    "    'us',\n",
    "    'united states',\n",
    "    'America',\n",
    "    'united states of america',\n",
    "    'The United States',\n",
    "    'U.S>',\n",
    "    'U.SA',\n",
    "    'Unted States',\n",
    "    'United Stated',\n",
    "    'u.s.',\n",
    "    'united States',\n",
    "    'United Statees',\n",
    "    'Uniyed states',\n",
    "    'Uniyes States',\n",
    "    'U. S.',\n",
    "    'U.S.',\n",
    "    'The US',\n",
    "    'Unite States',\n",
    "    'isa',\n",
    "    'Uniteed States',\n",
    "    'USAB',\n",
    "    'Unitied States',\n",
    "    'United Stares',\n",
    "    'U.S.',\n",
    "    'United Status',\n",
    "    'United Statues',\n",
    "    'Untied States',\n",
    "    'United States Of America',\n",
    "    'United STates',\n",
    "    'USaa','ua',\n",
    "    'uSA','Hartford',\n",
    "    'america',\n",
    "    'United  States',\n",
    "    'Uniter Statez',\n",
    "    'U. S',\n",
    "    'United states of America',\n",
    "    'Unitef Stated',\n",
    "    'United Stares ','Usa tomorrow',\n",
    "    'I am located in Canada but I work for a company in the US',\n",
    "    'USA, but for foreign gov\\'t',\n",
    "    'For the United States government, but posted overseas',\n",
    "    'I work for a UAE-based organization, though I am personally in the US',\n",
    "    'USA, united state'\n",
    "      , 'u.s.a', \n",
    "       'united state of america',  'usa-- virgin islands', 'united statws', \n",
    "       'u.s',  'united sates',\n",
    "       \n",
    "       'united states of american',  'united statesp', 'united stattes',\n",
    "       'united statea',  'united states of americas', 'us of a',\n",
    "       'usa tomorrow', 'united stateds',\n",
    "       'us govt employee overseas, country withheld',  'usat',\n",
    "       'united states- puerto rico','united states is america',\n",
    "       'united statss',\n",
    "       'united states is america'\n",
    "    'united sates of america',\n",
    "    'u.s.a.',\n",
    "    'uniited states',\n",
    "    'united sates of america','unitedstates', '🇺🇸',\n",
    "    'u.s.a.', 'uss','USA' '🇺🇸','usd',\n",
    " 'unites states',   'united sttes','US',''\n",
    " 'us','unites states',\n",
    " 'united statew'\n",
    "]\n",
    "\n",
    "\n"
   ]
  },
  {
   "cell_type": "code",
   "execution_count": 10,
   "metadata": {},
   "outputs": [],
   "source": [
    "df['Working In'] = df['Working In'].str.strip().str.lower()\n",
    "usa_entries_normalized = [entry.lower() for entry in usa_entries]\n",
    "df['Working In']=np.where(df['Working In'].isin(usa_entries_normalized),'USA',df['Working In'])"
   ]
  },
  {
   "cell_type": "code",
   "execution_count": 137,
   "metadata": {},
   "outputs": [
    {
     "data": {
      "text/plain": [
       "array(['USA', 'united kingdom', 'canada', 'uk', 'scotland',\n",
       "       'the netherlands', 'australia', 'spain', 'england', 'finland',\n",
       "       'france', 'germany', 'ireland', 'great britain', 'united state',\n",
       "       'u.s.a', 'denmark', 'netherlands', 'switzerland', 'bermuda',\n",
       "       'united state of america', 'mexico', 'south africa', 'belgium',\n",
       "       'northern ireland', 'sweden', 'hong kong', 'kuwait', 'sri lanka',\n",
       "       'contracts', 'usa-- virgin islands', 'united statws', 'england/uk',\n",
       "       'u.s',\n",
       "       \"we don't get raises, we get quarterly bonuses, but they periodically asses income in the area you work, so i got a raise because a 3rd party assessment showed i was paid too little for the area we were located\",\n",
       "       'england, uk.', 'greece', 'britain', 'united sates', 'austria',\n",
       "       'canada, ottawa, ontario', 'global', 'united states of american',\n",
       "       'united kingdom (england)',\n",
       "       'worldwide (based in us but short term trips aroudn the world)',\n",
       "       'canadw', 'luxembourg',\n",
       "       'united states (i work from home and my clients are all over the us/canada/pr',\n",
       "       'colombia', 'united statesp', 'united stattes', 'united statea',\n",
       "       'united kingdom.', 'new zealand', 'cayman islands', 'can',\n",
       "       'united states of americas', 'u.a.', 'latvia', 'puerto rico',\n",
       "       'us of a', 'rwanda', 'united arab emirates', 'u.k.', 'romania',\n",
       "       'united kindom', 'currently finance', 'serbia', 'russia', 'uxz',\n",
       "       'england, uk', 'canda', 'canada and usa', 'catalonia',\n",
       "       '$2,175.84/year is deducted for benefits', 'italy (south)',\n",
       "       'jersey, channel islands', 'virginia', 'afghanistan',\n",
       "       'new zealand aotearoa', 'japan, us gov position', 'csnada', 'i.s.',\n",
       "       'uk (northern ireland)', 'uk for u.s. company', 'japan', 'nz',\n",
       "       'canad', 'china', 'cambodia', 'vietnam', 'remote', 'india',\n",
       "       'bangladesh', 'israel', 'lithuania', 'eritrea', 'is',\n",
       "       'united kingdomk', 'italy', 'norway', 'cuba', 'slovenia',\n",
       "       'australi', \"cote d'ivoire\",\n",
       "       'from romania, but for an us based company', 'somalia',\n",
       "       'wales (united kingdom)', 'england, gb', 'danmark',\n",
       "       'u.k. (northern england)', 'u.k', 'malaysia', 'nl', 'nederland',\n",
       "       'slovakia', 'portugal', 'england, united kingdom', 'sierra leone',\n",
       "       'englang', 'uae', 'singapore', 'international', 'the bahamas',\n",
       "       'wales',\n",
       "       \"i earn commission on sales. if i meet quota, i'm guaranteed another 16k min. last year i earned an additional 27k. it's not uncommon for people in my space to earn 100k+ after commission.\",\n",
       "       'costa rica', 'argentina', 'chile', 'uk (england)', 'uk, remote',\n",
       "       'scotland, uk', 'qatar', 'hungary', 'remote (philippines)',\n",
       "       'unites kingdom', 'nigeria', 'panamá', 'brazil',\n",
       "       'austria, but i work remotely for a dutch/british company',\n",
       "       'i was brought in on this salary to help with the ehr and very quickly was promoted to current position but compensation was not altered.',\n",
       "       'congo', 'uruguay', 'pakistan', 'usa tomorrow', 'united stateds',\n",
       "       'n/a (remote from wherever i want)',\n",
       "       'us govt employee overseas, country withheld', 'uganda',\n",
       "       'philippines', 'poland', 'malta', 'bulgaria', 'estonia', 'morocco',\n",
       "       'africa', 'ecuador', 'zimbabwe', 'ghana', 'san francisco', 'usat',\n",
       "       'luxemburg', 'wales, uk', 'croatia', 'south korea', 'ukraine',\n",
       "       'united states- puerto rico',\n",
       "       'from new zealand but on projects across apac', 'y', 'united y',\n",
       "       'thailand', 'wales (uk)', 'isle of man',\n",
       "       'northern ireland, united kingdom', 'europe', 'california',\n",
       "       'uk, but for globally fully remote company', 'australian',\n",
       "       'jamaica', 'kenya', 'jordan', 'united statss',\n",
       "       'i work for a uae-based organization, though i am personally in the us.',\n",
       "       'aotearoa new zealand', 'na', 'policy', 'cyprus', 'hong konh',\n",
       "       'united states is america', 'liechtenstein',\n",
       "       'company in germany. i work from pakistan.', 'canadá',\n",
       "       'bosnia and herzegovina', 'london', 'ss', 'dbfemf', 'saudi arabia',\n",
       "       'loutreland', 'myanmar', 'burma'], dtype=object)"
      ]
     },
     "execution_count": 137,
     "metadata": {},
     "output_type": "execute_result"
    }
   ],
   "source": [
    "df['Working In'].unique()"
   ]
  },
  {
   "cell_type": "code",
   "execution_count": 138,
   "metadata": {},
   "outputs": [],
   "source": [
    "df.to_csv('Half_cleaned.csv')"
   ]
  },
  {
   "cell_type": "code",
   "execution_count": 2,
   "metadata": {},
   "outputs": [],
   "source": [
    "df=pd.read_csv(\"Half_cleaned.csv\")"
   ]
  },
  {
   "cell_type": "code",
   "execution_count": 11,
   "metadata": {},
   "outputs": [
    {
     "data": {
      "text/plain": [
       "array(['USA', 'united kingdom', 'canada', 'uk', 'scotland',\n",
       "       'the netherlands', 'australia', 'spain', 'england', 'finland',\n",
       "       'france', 'germany', 'ireland', 'great britain', 'united state',\n",
       "       'denmark', 'netherlands', 'switzerland', 'bermuda', 'mexico',\n",
       "       'south africa', 'belgium', 'northern ireland', 'sweden',\n",
       "       'hong kong', 'kuwait', 'sri lanka', 'contracts', 'england/uk',\n",
       "       'england, uk.', 'greece', 'britain', 'austria',\n",
       "       'canada, ottawa, ontario', 'global', 'united kingdom (england)',\n",
       "       'canadw', 'luxembourg', 'colombia', 'united kingdom.',\n",
       "       'new zealand', 'cayman islands', 'u.a.', 'latvia', 'puerto rico',\n",
       "       'rwanda', 'united arab emirates', 'u.k.', 'romania',\n",
       "       'united kindom', 'currently finance', 'serbia', 'russia',\n",
       "       'england, uk', 'canda', 'canada and usa', 'catalonia',\n",
       "       'italy (south)', 'jersey, channel islands', 'virginia',\n",
       "       'afghanistan', 'new zealand aotearoa', 'japan, us gov position',\n",
       "       'csnada', 'i.s.', 'uk (northern ireland)', 'uk for u.s. company',\n",
       "       'japan', 'nz', 'canad', 'china', 'cambodia', 'vietnam', 'remote',\n",
       "       'india', 'bangladesh', 'israel', 'lithuania', 'eritrea', 'is',\n",
       "       'united kingdomk', 'italy', 'norway', 'cuba', 'slovenia',\n",
       "       'australi', \"cote d'ivoire\", 'somalia', 'wales (united kingdom)',\n",
       "       'england, gb', 'danmark', 'u.k. (northern england)', 'u.k',\n",
       "       'malaysia', 'nl', 'nederland', 'slovakia', 'portugal',\n",
       "       'england, united kingdom', 'sierra leone', 'englang', 'uae',\n",
       "       'singapore', 'international', 'the bahamas', 'wales', 'costa rica',\n",
       "       'argentina', 'chile', 'uk (england)', 'uk, remote', 'scotland, uk',\n",
       "       'qatar', 'hungary', 'remote (philippines)', 'unites kingdom',\n",
       "       'nigeria', 'panamá', 'brazil', 'congo', 'uruguay', 'pakistan',\n",
       "       'uganda', 'philippines', 'poland', 'malta', 'bulgaria', 'estonia',\n",
       "       'morocco', 'africa', 'ecuador', 'zimbabwe', 'ghana',\n",
       "       'san francisco', 'luxemburg', 'wales, uk', 'croatia',\n",
       "       'south korea', 'ukraine', 'thailand', 'wales (uk)', 'isle of man',\n",
       "       'northern ireland, united kingdom', 'europe', 'california',\n",
       "       'australian', 'jamaica', 'kenya', 'jordan', 'aotearoa new zealand',\n",
       "       'cyprus', 'hong konh', 'liechtenstein', 'canadá',\n",
       "       'bosnia and herzegovina', 'london', 'saudi arabia', 'loutreland',\n",
       "       'myanmar', 'burma'], dtype=object)"
      ]
     },
     "execution_count": 11,
     "metadata": {},
     "output_type": "execute_result"
    }
   ],
   "source": [
    "df['Working In'].unique()"
   ]
  },
  {
   "cell_type": "code",
   "execution_count": 12,
   "metadata": {},
   "outputs": [
    {
     "data": {
      "text/plain": [
       "array(['USA', 'united kingdom', 'canada', 'uk', 'scotland',\n",
       "       'the netherlands', 'australia', 'spain', 'england', 'finland',\n",
       "       'france', 'germany', 'ireland', 'great britain', 'united state',\n",
       "       'denmark', 'netherlands', 'switzerland', 'bermuda', 'mexico',\n",
       "       'south africa', 'belgium', 'northern ireland', 'sweden',\n",
       "       'hong kong', 'kuwait', 'sri lanka', 'contracts', 'england/uk',\n",
       "       'england, uk.', 'greece', 'britain', 'austria',\n",
       "       'canada, ottawa, ontario', 'global', 'united kingdom (england)',\n",
       "       'canadw', 'luxembourg', 'colombia', 'united kingdom.',\n",
       "       'new zealand', 'cayman islands', 'u.a.', 'latvia', 'puerto rico',\n",
       "       'rwanda', 'united arab emirates', 'u.k.', 'romania',\n",
       "       'united kindom', 'currently finance', 'serbia', 'russia',\n",
       "       'england, uk', 'canda', 'canada and usa', 'catalonia',\n",
       "       'italy (south)', 'jersey, channel islands', 'virginia',\n",
       "       'afghanistan', 'new zealand aotearoa', 'japan, us gov position',\n",
       "       'csnada', 'i.s.', 'uk (northern ireland)', 'uk for u.s. company',\n",
       "       'japan', 'nz', 'canad', 'china', 'cambodia', 'vietnam', 'remote',\n",
       "       'india', 'bangladesh', 'israel', 'lithuania', 'eritrea', 'is',\n",
       "       'united kingdomk', 'italy', 'norway', 'cuba', 'slovenia',\n",
       "       'australi', \"cote d'ivoire\", 'somalia', 'wales (united kingdom)',\n",
       "       'england, gb', 'danmark', 'u.k. (northern england)', 'u.k',\n",
       "       'malaysia', 'nl', 'nederland', 'slovakia', 'portugal',\n",
       "       'england, united kingdom', 'sierra leone', 'englang', 'uae',\n",
       "       'singapore', 'international', 'the bahamas', 'wales', 'costa rica',\n",
       "       'argentina', 'chile', 'uk (england)', 'uk, remote', 'scotland, uk',\n",
       "       'qatar', 'hungary', 'remote (philippines)', 'unites kingdom',\n",
       "       'nigeria', 'panamá', 'brazil', 'congo', 'uruguay', 'pakistan',\n",
       "       'uganda', 'philippines', 'poland', 'malta', 'bulgaria', 'estonia',\n",
       "       'morocco', 'africa', 'ecuador', 'zimbabwe', 'ghana',\n",
       "       'san francisco', 'luxemburg', 'wales, uk', 'croatia',\n",
       "       'south korea', 'ukraine', 'thailand', 'wales (uk)', 'isle of man',\n",
       "       'northern ireland, united kingdom', 'europe', 'california',\n",
       "       'australian', 'jamaica', 'kenya', 'jordan', 'aotearoa new zealand',\n",
       "       'cyprus', 'hong konh', 'liechtenstein', 'canadá',\n",
       "       'bosnia and herzegovina', 'london', 'saudi arabia', 'loutreland',\n",
       "       'myanmar', 'burma'], dtype=object)"
      ]
     },
     "execution_count": 12,
     "metadata": {},
     "output_type": "execute_result"
    }
   ],
   "source": [
    "replace=[ \"we don't get raises, we get quarterly bonuses, but they periodically asses income in the area you work, so i got a raise because a 3rd party assessment showed i was paid too little for the area we were located\",\n",
    "        'i work for a uae-based organization, though i am personally in the us.',\n",
    "         'austria, but i work remotely for a dutch/british company','united y',\n",
    "         'from romania, but for an us based company','na','n/a (remote from wherever i want)','policy',\n",
    "         'from new zealand but on projects across apac','can','y','africa,'\n",
    "       'i was brought in on this salary to help with the ehr and very quickly was promoted to current position but compensation was not altered.',\n",
    "      \"i earn commission on sales. if i meet quota, i'm guaranteed another 16k min. last year i earned an additional 27k. it's not uncommon for people in my space to earn 100k+ after commission.\",\n",
    "     '$2,175.84/year is deducted for benefits','worldwide (based in us but short term trips aroudn the world)',\"we don't get raises, we get quarterly bonuses, but they periodically asses income in the area you work, so i got a raise because a 3rd party assessment showed i was paid too little for the area we were located\"\n",
    "     'ss', 'dbfemf','company in germany. i work from pakistan.', 'uk, but for globally fully remote company', 'ss','uxz', 'united states (i work from home and my clients are all over the us/canada/pr',\n",
    "      'i was brought in on this salary to help with the ehr and very quickly was promoted to current position but compensation was not altered.',\n",
    "      \n",
    "     ]\n",
    "df=df[~df['Working In'].isin(replace)]\n",
    "df['Working In'].unique()"
   ]
  },
  {
   "cell_type": "code",
   "execution_count": 13,
   "metadata": {},
   "outputs": [
    {
     "data": {
      "text/plain": [
       "array(['usa', 'United Kingdom', 'the netherlands', 'australia', 'spain',\n",
       "       'finland', 'france', 'germany', 'ireland', 'united state',\n",
       "       'denmark', 'netherlands', 'switzerland', 'bermuda', 'mexico',\n",
       "       'south africa', 'belgium', 'sweden', 'hong kong', 'kuwait',\n",
       "       'sri lanka', 'contracts', 'greece', 'austria',\n",
       "       'canada, ottawa, ontario', 'global', 'canadw', 'luxembourg',\n",
       "       'colombia', 'new zealand', 'cayman islands', 'u.a.', 'latvia',\n",
       "       'puerto rico', 'rwanda', 'united arab emirates', 'romania',\n",
       "       'currently finance', 'serbia', 'russia', 'canda', 'canada and usa',\n",
       "       'catalonia', 'italy (south)', 'jersey, channel islands',\n",
       "       'virginia', 'afghanistan', 'new zealand aotearoa',\n",
       "       'japan, us gov position', 'csnada', 'i.s.', 'japan', 'nz', 'canad',\n",
       "       'china', 'cambodia', 'vietnam', 'remote', 'india', 'bangladesh',\n",
       "       'israel', 'lithuania', 'eritrea', 'is', 'italy', 'norway', 'cuba',\n",
       "       'slovenia', 'australi', \"cote d'ivoire\", 'somalia', 'danmark',\n",
       "       'malaysia', 'nl', 'nederland', 'slovakia', 'portugal',\n",
       "       'sierra leone', 'uae', 'singapore', 'international', 'the bahamas',\n",
       "       'costa rica', 'argentina', 'chile', 'qatar', 'hungary',\n",
       "       'remote (philippines)', 'nigeria', 'panamá', 'brazil', 'congo',\n",
       "       'uruguay', 'pakistan', 'uganda', 'philippines', 'poland', 'malta',\n",
       "       'bulgaria', 'estonia', 'morocco', 'africa', 'ecuador', 'zimbabwe',\n",
       "       'ghana', 'san francisco', 'luxemburg', 'croatia', 'south korea',\n",
       "       'ukraine', 'thailand', 'isle of man', 'europe', 'california',\n",
       "       'australian', 'jamaica', 'kenya', 'jordan', 'aotearoa new zealand',\n",
       "       'cyprus', 'hong konh', 'liechtenstein', 'canadá',\n",
       "       'bosnia and herzegovina', 'saudi arabia', 'loutreland', 'myanmar',\n",
       "       'burma'], dtype=object)"
      ]
     },
     "execution_count": 13,
     "metadata": {},
     "output_type": "execute_result"
    }
   ],
   "source": [
    "united_kingdom=[\n",
    "     'united kingdom', 'canada', 'uk', 'scotland', 'england',  'great britain',  'northern ireland', 'england/uk', 'england, uk.',\n",
    "       'britain', \n",
    "       'united kingdom (england)', \n",
    "       'united kingdom.', 'u.k.',\n",
    "        'united kindom',  'england, uk', \n",
    "       'uk (northern ireland)', 'uk for u.s. company','london',\n",
    "       'united kingdomk',  'wales (united kingdom)',\n",
    "       'england, gb',\n",
    "       'u.k. (northern england)', 'u.k',  'england, united kingdom',\n",
    "       'englang',\n",
    "       'wales', 'uk (england)',\n",
    "       'uk, remote', 'scotland, uk', 'unites kingdom', 'wales, uk', 'wales (uk)',\n",
    "       'northern ireland, united kingdom'\n",
    "    \n",
    "]\n",
    "df['Working In'] = df['Working In'].str.strip().str.lower()\n",
    "uk_entries_normalized = [entry.lower() for entry in united_kingdom]\n",
    "df['Working In']=np.where(df['Working In'].isin(uk_entries_normalized),'United Kingdom',df['Working In'])\n",
    "df['Working In'].unique()"
   ]
  },
  {
   "cell_type": "code",
   "execution_count": 14,
   "metadata": {},
   "outputs": [
    {
     "data": {
      "text/plain": [
       "array(['United States', 'United Kingdom', 'Netherlands', 'Australia',\n",
       "       'Spain', 'Finland', 'France', 'Germany', 'Ireland', 'Denmark',\n",
       "       'Switzerland', 'Bermuda', 'Mexico', 'South Africa', 'Belgium',\n",
       "       'Sweden', 'Hong Kong', 'Kuwait', 'Sri Lanka', 'International',\n",
       "       'Greece', 'Austria', 'Canada', 'Luxembourg', 'Colombia',\n",
       "       'New Zealand', 'Cayman Islands', 'United Arab Emirates', 'Latvia',\n",
       "       'Rwanda', 'Romania', 'Serbia', 'Russia', 'Catalonia', 'Italy',\n",
       "       'Afghanistan', 'Japan', 'Israel', 'China', 'Cambodia', 'Vietnam',\n",
       "       'India', 'Bangladesh', 'Lithuania', 'Eritrea', 'norway', 'Cuba',\n",
       "       'Slovenia', \"Côte d'Ivoire\", 'Somalia', 'Malaysia', 'Slovakia',\n",
       "       'Portugal', 'Sierra Leone', 'Singapore', 'Bahamas', 'Costa Rica',\n",
       "       'Argentina', 'Chile', 'Qatar', 'Hungary', 'Philippines', 'Nigeria',\n",
       "       'Panama', 'Brazil', 'Congo', 'Uruguay', 'Pakistan', 'Uganda',\n",
       "       'Poland', 'Malta', 'Bulgaria', 'Estonia', 'Morocco', 'africa',\n",
       "       'Ecuador', 'Zimbabwe', 'Ghana', 'Croatia', 'South Korea',\n",
       "       'Ukraine', 'Thailand', 'europe', 'jamaica', 'kenya', 'jordan',\n",
       "       'cyprus', 'Liechtenstein', 'Bosnia and Herzegovina',\n",
       "       'Saudi Arabia', 'Myanmar'], dtype=object)"
      ]
     },
     "execution_count": 14,
     "metadata": {},
     "output_type": "execute_result"
    }
   ],
   "source": [
    "duplicates = {\n",
    "    \"United States\": [\"usa\", \"united state\", \"us\", \"usat\", \"virginia\", \"california\", \"san francisco\", \"remote (usa)\", \"puerto rico\"],\n",
    "    \"United Kingdom\": [\"united kingdom\", \"uk\", \"jersey, channel islands\", \"isle of man\", \"loutreland\"],\n",
    "    \"Netherlands\": [\"netherlands\", \"the netherlands\", \"nederland\", \"nl\"],\n",
    "    \"Canada\": [\"canada\", \"canadw\", \"canda\", \"canad\", \"csnada\", \"canada, ottawa, ontario\", \"canada and usa\", \"canadá\"],\n",
    "    \"New Zealand\": [\"new zealand\", \"aotearoa new zealand\", \"new zealand aotearoa\", \"nz\"],\n",
    "    \"United Arab Emirates\": [\"united arab emirates\", \"u.a.\", \"uae\", \"ua\"],\n",
    "    \"Hong Kong\": [\"hong kong\", \"hong konh\"],\n",
    "    \"Australia\": [\"australia\", \"australi\", \"australian\"],\n",
    "    \"Luxembourg\": [\"luxembourg\", \"luxemburg\"],\n",
    "    \"Israel\": [\"israel\", \"is\", \"i.s.\"],\n",
    "    \"Japan\": [\"japan\", \"japan, us gov position\"],\n",
    "    \"Italy\": [\"italy\", \"italy (south)\"],\n",
    "    \"France\": [\"france\", \"currently finance\"],\n",
    "    \"International\": [\"contracts\", \"international\", \"global\", \"remote\"],\n",
    "    \"Philippines\": [\"philippines\", \"remote (philippines)\"],\n",
    "    \"Spain\": [\"spain\"],\n",
    "    \"Finland\": [\"finland\"],\n",
    "    \"Germany\": [\"germany\"],\n",
    "    \"Ireland\": [\"ireland\"],\n",
    "    \"Denmark\": [\"denmark\", \"danmark\"],\n",
    "    \"Switzerland\": [\"switzerland\"],\n",
    "    \"Bermuda\": [\"bermuda\"],\n",
    "    \"Mexico\": [\"mexico\"],\n",
    "    \"South Africa\": [\"south africa\"],\n",
    "    \"Belgium\": [\"belgium\"],\n",
    "    \"Sweden\": [\"sweden\"],\n",
    "    \"Kuwait\": [\"kuwait\"],\n",
    "    \"Sri Lanka\": [\"sri lanka\"],\n",
    "    \"Greece\": [\"greece\"],\n",
    "    \"Austria\": [\"austria\"],\n",
    "    \"Colombia\": [\"colombia\"],\n",
    "    \"Cayman Islands\": [\"cayman islands\"],\n",
    "    \"Latvia\": [\"latvia\"],\n",
    "    \"Rwanda\": [\"rwanda\"],\n",
    "    \"Romania\": [\"romania\"],\n",
    "    \"Serbia\": [\"serbia\"],\n",
    "    \"Russia\": [\"russia\"],\n",
    "    \"Catalonia\": [\"catalonia\"],\n",
    "    \"Afghanistan\": [\"afghanistan\"],\n",
    "    \"China\": [\"china\"],\n",
    "    \"Cambodia\": [\"cambodia\"],\n",
    "    \"Vietnam\": [\"vietnam\"],\n",
    "    \"India\": [\"india\"],\n",
    "    \"Bangladesh\": [\"bangladesh\"],\n",
    "    \"Lithuania\": [\"lithuania\"],\n",
    "    \"Eritrea\": [\"eritrea\"],\n",
    "    \"Cuba\": [\"cuba\"],\n",
    "    \"Slovenia\": [\"slovenia\"],\n",
    "    \"Côte d'Ivoire\": [\"cote d'ivoire\"],\n",
    "    \"Somalia\": [\"somalia\"],\n",
    "    \"Malaysia\": [\"malaysia\"],\n",
    "    \"Slovakia\": [\"slovakia\"],\n",
    "    \"Portugal\": [\"portugal\"],\n",
    "    \"Sierra Leone\": [\"sierra leone\"],\n",
    "    \"Singapore\": [\"singapore\"],\n",
    "    \"Bahamas\": [\"the bahamas\"],\n",
    "    \"Costa Rica\": [\"costa rica\"],\n",
    "    \"Argentina\": [\"argentina\"],\n",
    "    \"Chile\": [\"chile\"],\n",
    "    \"Qatar\": [\"qatar\"],\n",
    "    \"Hungary\": [\"hungary\"],\n",
    "    \"Nigeria\": [\"nigeria\"],\n",
    "    \"Panama\": [\"panamá\"],\n",
    "    \"Brazil\": [\"brazil\"],\n",
    "    \"Congo\": [\"congo\"],\n",
    "    \"Uruguay\": [\"uruguay\"],\n",
    "    \"Pakistan\": [\"pakistan\"],\n",
    "    \"Uganda\": [\"uganda\"],\n",
    "    \"Poland\": [\"poland\"],\n",
    "    \"Malta\": [\"malta\"],\n",
    "    \"Bulgaria\": [\"bulgaria\"],\n",
    "    \"Estonia\": [\"estonia\"],\n",
    "    \"Morocco\": [\"morocco\"],\n",
    "    \"Ecuador\": [\"ecuador\"],\n",
    "    \"Zimbabwe\": [\"zimbabwe\"],\n",
    "    \"Ghana\": [\"ghana\"],\n",
    "    \"Croatia\": [\"croatia\"],\n",
    "    \"South Korea\": [\"south korea\"],\n",
    "    \"Ukraine\": [\"ukraine\"],\n",
    "    \"Thailand\": [\"thailand\"],\n",
    "    \"Liechtenstein\": [\"liechtenstein\"],\n",
    "    \"Bosnia and Herzegovina\": [\"bosnia and herzegovina\"],\n",
    "    \"Saudi Arabia\": [\"saudi arabia\"],\n",
    "    \"Myanmar\": [\"myanmar\", \"burma\"]\n",
    "}\n",
    "\n",
    "# Reversing the dictionary\n",
    "duplicates = {v: k for k, values in duplicates.items() for v in values}\n",
    "\n",
    "df['Working In'] = df['Working In'].replace(duplicates)\n",
    "df['Working In'].unique()\n"
   ]
  },
  {
   "cell_type": "code",
   "execution_count": 15,
   "metadata": {},
   "outputs": [
    {
     "data": {
      "text/plain": [
       "array(['United states', 'United kingdom', 'Netherlands', 'Australia',\n",
       "       'Spain', 'Finland', 'France', 'Germany', 'Ireland', 'Denmark',\n",
       "       'Switzerland', 'Bermuda', 'Mexico', 'South africa', 'Belgium',\n",
       "       'Sweden', 'Hong kong', 'Kuwait', 'Sri lanka', 'International',\n",
       "       'Greece', 'Austria', 'Canada', 'Luxembourg', 'Colombia',\n",
       "       'New zealand', 'Cayman islands', 'United arab emirates', 'Latvia',\n",
       "       'Rwanda', 'Romania', 'Serbia', 'Russia', 'Catalonia', 'Italy',\n",
       "       'Afghanistan', 'Japan', 'Israel', 'China', 'Cambodia', 'Vietnam',\n",
       "       'India', 'Bangladesh', 'Lithuania', 'Eritrea', 'Norway', 'Cuba',\n",
       "       'Slovenia', \"Côte d'ivoire\", 'Somalia', 'Malaysia', 'Slovakia',\n",
       "       'Portugal', 'Sierra leone', 'Singapore', 'Bahamas', 'Costa rica',\n",
       "       'Argentina', 'Chile', 'Qatar', 'Hungary', 'Philippines', 'Nigeria',\n",
       "       'Panama', 'Brazil', 'Congo', 'Uruguay', 'Pakistan', 'Uganda',\n",
       "       'Poland', 'Malta', 'Bulgaria', 'Estonia', 'Morocco', 'Africa',\n",
       "       'Ecuador', 'Zimbabwe', 'Ghana', 'Croatia', 'South korea',\n",
       "       'Ukraine', 'Thailand', 'Europe', 'Jamaica', 'Kenya', 'Jordan',\n",
       "       'Cyprus', 'Liechtenstein', 'Bosnia and herzegovina',\n",
       "       'Saudi arabia', 'Myanmar'], dtype=object)"
      ]
     },
     "execution_count": 15,
     "metadata": {},
     "output_type": "execute_result"
    }
   ],
   "source": [
    "df['Working In']=df['Working In'].str.capitalize()\n",
    "df['Working In'].unique()"
   ]
  },
  {
   "cell_type": "code",
   "execution_count": 17,
   "metadata": {},
   "outputs": [
    {
     "data": {
      "text/html": [
       "<div>\n",
       "<style scoped>\n",
       "    .dataframe tbody tr th:only-of-type {\n",
       "        vertical-align: middle;\n",
       "    }\n",
       "\n",
       "    .dataframe tbody tr th {\n",
       "        vertical-align: top;\n",
       "    }\n",
       "\n",
       "    .dataframe thead th {\n",
       "        text-align: right;\n",
       "    }\n",
       "</style>\n",
       "<table border=\"1\" class=\"dataframe\">\n",
       "  <thead>\n",
       "    <tr style=\"text-align: right;\">\n",
       "      <th></th>\n",
       "      <th>Unnamed: 0</th>\n",
       "      <th>Age</th>\n",
       "      <th>Industry</th>\n",
       "      <th>Job title</th>\n",
       "      <th>Annual Salary</th>\n",
       "      <th>Currency</th>\n",
       "      <th>Working In</th>\n",
       "      <th>US State</th>\n",
       "      <th>City</th>\n",
       "      <th>Years of Experience</th>\n",
       "      <th>Present Field Experience</th>\n",
       "      <th>Education</th>\n",
       "      <th>Gender</th>\n",
       "      <th>Race</th>\n",
       "    </tr>\n",
       "  </thead>\n",
       "  <tbody>\n",
       "    <tr>\n",
       "      <th>0</th>\n",
       "      <td>0</td>\n",
       "      <td>25-34</td>\n",
       "      <td>Education (Higher Education)</td>\n",
       "      <td>Research and Instruction Librarian</td>\n",
       "      <td>55000</td>\n",
       "      <td>USD</td>\n",
       "      <td>United states</td>\n",
       "      <td>Massachusetts</td>\n",
       "      <td>Boston</td>\n",
       "      <td>5-7 years</td>\n",
       "      <td>5-7 years</td>\n",
       "      <td>Master's degree</td>\n",
       "      <td>Woman</td>\n",
       "      <td>White</td>\n",
       "    </tr>\n",
       "    <tr>\n",
       "      <th>1</th>\n",
       "      <td>1</td>\n",
       "      <td>25-34</td>\n",
       "      <td>Computing or Tech</td>\n",
       "      <td>Change &amp; Internal Communications Manager</td>\n",
       "      <td>71799</td>\n",
       "      <td>GBP</td>\n",
       "      <td>United kingdom</td>\n",
       "      <td>NaN</td>\n",
       "      <td>Cambridge</td>\n",
       "      <td>8 - 10 years</td>\n",
       "      <td>5-7 years</td>\n",
       "      <td>College degree</td>\n",
       "      <td>Non-binary</td>\n",
       "      <td>White</td>\n",
       "    </tr>\n",
       "    <tr>\n",
       "      <th>2</th>\n",
       "      <td>2</td>\n",
       "      <td>25-34</td>\n",
       "      <td>Accounting, Banking &amp; Finance</td>\n",
       "      <td>Marketing Specialist</td>\n",
       "      <td>34000</td>\n",
       "      <td>USD</td>\n",
       "      <td>United states</td>\n",
       "      <td>Tennessee</td>\n",
       "      <td>Chattanooga</td>\n",
       "      <td>2 - 4 years</td>\n",
       "      <td>2 - 4 years</td>\n",
       "      <td>College degree</td>\n",
       "      <td>Woman</td>\n",
       "      <td>White</td>\n",
       "    </tr>\n",
       "    <tr>\n",
       "      <th>3</th>\n",
       "      <td>3</td>\n",
       "      <td>25-34</td>\n",
       "      <td>Nonprofits</td>\n",
       "      <td>Program Manager</td>\n",
       "      <td>62000</td>\n",
       "      <td>USD</td>\n",
       "      <td>United states</td>\n",
       "      <td>Wisconsin</td>\n",
       "      <td>Milwaukee</td>\n",
       "      <td>8 - 10 years</td>\n",
       "      <td>5-7 years</td>\n",
       "      <td>College degree</td>\n",
       "      <td>Woman</td>\n",
       "      <td>White</td>\n",
       "    </tr>\n",
       "    <tr>\n",
       "      <th>4</th>\n",
       "      <td>4</td>\n",
       "      <td>25-34</td>\n",
       "      <td>Accounting, Banking &amp; Finance</td>\n",
       "      <td>Accounting Manager</td>\n",
       "      <td>60000</td>\n",
       "      <td>USD</td>\n",
       "      <td>United states</td>\n",
       "      <td>South Carolina</td>\n",
       "      <td>Greenville</td>\n",
       "      <td>8 - 10 years</td>\n",
       "      <td>5-7 years</td>\n",
       "      <td>College degree</td>\n",
       "      <td>Woman</td>\n",
       "      <td>White</td>\n",
       "    </tr>\n",
       "  </tbody>\n",
       "</table>\n",
       "</div>"
      ],
      "text/plain": [
       "   Unnamed: 0    Age                       Industry  \\\n",
       "0           0  25-34   Education (Higher Education)   \n",
       "1           1  25-34              Computing or Tech   \n",
       "2           2  25-34  Accounting, Banking & Finance   \n",
       "3           3  25-34                     Nonprofits   \n",
       "4           4  25-34  Accounting, Banking & Finance   \n",
       "\n",
       "                                  Job title  Annual Salary Currency  \\\n",
       "0        Research and Instruction Librarian          55000      USD   \n",
       "1  Change & Internal Communications Manager          71799      GBP   \n",
       "2                      Marketing Specialist          34000      USD   \n",
       "3                           Program Manager          62000      USD   \n",
       "4                        Accounting Manager          60000      USD   \n",
       "\n",
       "       Working In        US State         City Years of Experience  \\\n",
       "0   United states   Massachusetts       Boston           5-7 years   \n",
       "1  United kingdom             NaN    Cambridge        8 - 10 years   \n",
       "2   United states       Tennessee  Chattanooga         2 - 4 years   \n",
       "3   United states       Wisconsin    Milwaukee        8 - 10 years   \n",
       "4   United states  South Carolina   Greenville        8 - 10 years   \n",
       "\n",
       "  Present Field Experience        Education      Gender   Race  \n",
       "0                5-7 years  Master's degree       Woman  White  \n",
       "1                5-7 years   College degree  Non-binary  White  \n",
       "2              2 - 4 years   College degree       Woman  White  \n",
       "3                5-7 years   College degree       Woman  White  \n",
       "4                5-7 years   College degree       Woman  White  "
      ]
     },
     "execution_count": 17,
     "metadata": {},
     "output_type": "execute_result"
    }
   ],
   "source": [
    "df.head()"
   ]
  },
  {
   "cell_type": "code",
   "execution_count": 70,
   "metadata": {},
   "outputs": [
    {
     "data": {
      "text/plain": [
       "Currency\n",
       "USD        22843\n",
       "CAD         1630\n",
       "GBP         1551\n",
       "EUR          609\n",
       "AUD/NZD      489\n",
       "CHF           37\n",
       "SEK           35\n",
       "JPY           22\n",
       "ZAR           14\n",
       "HKD            4\n",
       "Name: count, dtype: int64"
      ]
     },
     "execution_count": 70,
     "metadata": {},
     "output_type": "execute_result"
    }
   ],
   "source": [
    "df['Currency'].value_counts()"
   ]
  },
  {
   "cell_type": "code",
   "execution_count": 73,
   "metadata": {},
   "outputs": [],
   "source": [
    "df.rename(columns={'Annual Salary':'Annual Salary(USDA)'\n",
    "                   \n",
    "                   \n",
    "                   },inplace=True)"
   ]
  },
  {
   "cell_type": "code",
   "execution_count": null,
   "metadata": {},
   "outputs": [],
   "source": [
    "df.drop('Currency',axis=1,inplace=True)"
   ]
  },
  {
   "cell_type": "code",
   "execution_count": 28,
   "metadata": {},
   "outputs": [],
   "source": [
    "df.drop('Unnamed: 0',axis=1,inplace=True)\n",
    "df.drop('US State',axis=1,inplace=True)"
   ]
  },
  {
   "cell_type": "code",
   "execution_count": 74,
   "metadata": {},
   "outputs": [
    {
     "data": {
      "text/plain": [
       "Index(['Age', 'Industry', 'Job title', 'Annual Salary(USDA)', 'Working In',\n",
       "       'City', 'Years of Experience', 'Present Field Experience', 'Education',\n",
       "       'Gender', 'Race'],\n",
       "      dtype='object')"
      ]
     },
     "execution_count": 74,
     "metadata": {},
     "output_type": "execute_result"
    }
   ],
   "source": [
    "df.columns"
   ]
  },
  {
   "cell_type": "code",
   "execution_count": 30,
   "metadata": {},
   "outputs": [],
   "source": [
    "original=df.copy()"
   ]
  },
  {
   "cell_type": "code",
   "execution_count": 78,
   "metadata": {},
   "outputs": [
    {
     "data": {
      "text/html": [
       "<div>\n",
       "<style scoped>\n",
       "    .dataframe tbody tr th:only-of-type {\n",
       "        vertical-align: middle;\n",
       "    }\n",
       "\n",
       "    .dataframe tbody tr th {\n",
       "        vertical-align: top;\n",
       "    }\n",
       "\n",
       "    .dataframe thead th {\n",
       "        text-align: right;\n",
       "    }\n",
       "</style>\n",
       "<table border=\"1\" class=\"dataframe\">\n",
       "  <thead>\n",
       "    <tr style=\"text-align: right;\">\n",
       "      <th></th>\n",
       "      <th>Age</th>\n",
       "      <th>Industry</th>\n",
       "      <th>Job title</th>\n",
       "      <th>Annual Salary(USDA)</th>\n",
       "      <th>Working In</th>\n",
       "      <th>City</th>\n",
       "      <th>Years of Experience</th>\n",
       "      <th>Present Field Experience</th>\n",
       "      <th>Education</th>\n",
       "      <th>Gender</th>\n",
       "      <th>Race</th>\n",
       "    </tr>\n",
       "  </thead>\n",
       "  <tbody>\n",
       "    <tr>\n",
       "      <th>0</th>\n",
       "      <td>25-34</td>\n",
       "      <td>Education (Higher Education)</td>\n",
       "      <td>Research and Instruction Librarian</td>\n",
       "      <td>55000</td>\n",
       "      <td>United states</td>\n",
       "      <td>Boston</td>\n",
       "      <td>5-7 years</td>\n",
       "      <td>5-7 years</td>\n",
       "      <td>Master's degree</td>\n",
       "      <td>Woman</td>\n",
       "      <td>White</td>\n",
       "    </tr>\n",
       "    <tr>\n",
       "      <th>1</th>\n",
       "      <td>25-34</td>\n",
       "      <td>Computing or Tech</td>\n",
       "      <td>Change &amp; Internal Communications Manager</td>\n",
       "      <td>71799</td>\n",
       "      <td>United kingdom</td>\n",
       "      <td>Cambridge</td>\n",
       "      <td>8 - 10 years</td>\n",
       "      <td>5-7 years</td>\n",
       "      <td>College degree</td>\n",
       "      <td>Non-binary</td>\n",
       "      <td>White</td>\n",
       "    </tr>\n",
       "    <tr>\n",
       "      <th>2</th>\n",
       "      <td>25-34</td>\n",
       "      <td>Accounting, Banking &amp; Finance</td>\n",
       "      <td>Marketing Specialist</td>\n",
       "      <td>34000</td>\n",
       "      <td>United states</td>\n",
       "      <td>Chattanooga</td>\n",
       "      <td>2 - 4 years</td>\n",
       "      <td>2 - 4 years</td>\n",
       "      <td>College degree</td>\n",
       "      <td>Woman</td>\n",
       "      <td>White</td>\n",
       "    </tr>\n",
       "    <tr>\n",
       "      <th>3</th>\n",
       "      <td>25-34</td>\n",
       "      <td>Nonprofits</td>\n",
       "      <td>Program Manager</td>\n",
       "      <td>62000</td>\n",
       "      <td>United states</td>\n",
       "      <td>Milwaukee</td>\n",
       "      <td>8 - 10 years</td>\n",
       "      <td>5-7 years</td>\n",
       "      <td>College degree</td>\n",
       "      <td>Woman</td>\n",
       "      <td>White</td>\n",
       "    </tr>\n",
       "    <tr>\n",
       "      <th>4</th>\n",
       "      <td>25-34</td>\n",
       "      <td>Accounting, Banking &amp; Finance</td>\n",
       "      <td>Accounting Manager</td>\n",
       "      <td>60000</td>\n",
       "      <td>United states</td>\n",
       "      <td>Greenville</td>\n",
       "      <td>8 - 10 years</td>\n",
       "      <td>5-7 years</td>\n",
       "      <td>College degree</td>\n",
       "      <td>Woman</td>\n",
       "      <td>White</td>\n",
       "    </tr>\n",
       "  </tbody>\n",
       "</table>\n",
       "</div>"
      ],
      "text/plain": [
       "     Age                       Industry  \\\n",
       "0  25-34   Education (Higher Education)   \n",
       "1  25-34              Computing or Tech   \n",
       "2  25-34  Accounting, Banking & Finance   \n",
       "3  25-34                     Nonprofits   \n",
       "4  25-34  Accounting, Banking & Finance   \n",
       "\n",
       "                                  Job title  Annual Salary(USDA)  \\\n",
       "0        Research and Instruction Librarian                55000   \n",
       "1  Change & Internal Communications Manager                71799   \n",
       "2                      Marketing Specialist                34000   \n",
       "3                           Program Manager                62000   \n",
       "4                        Accounting Manager                60000   \n",
       "\n",
       "       Working In         City Years of Experience Present Field Experience  \\\n",
       "0   United states       Boston           5-7 years                5-7 years   \n",
       "1  United kingdom    Cambridge        8 - 10 years                5-7 years   \n",
       "2   United states  Chattanooga         2 - 4 years              2 - 4 years   \n",
       "3   United states    Milwaukee        8 - 10 years                5-7 years   \n",
       "4   United states   Greenville        8 - 10 years                5-7 years   \n",
       "\n",
       "         Education      Gender   Race  \n",
       "0  Master's degree       Woman  White  \n",
       "1   College degree  Non-binary  White  \n",
       "2   College degree       Woman  White  \n",
       "3   College degree       Woman  White  \n",
       "4   College degree       Woman  White  "
      ]
     },
     "execution_count": 78,
     "metadata": {},
     "output_type": "execute_result"
    }
   ],
   "source": [
    "df.head()"
   ]
  },
  {
   "cell_type": "code",
   "execution_count": 32,
   "metadata": {},
   "outputs": [
    {
     "data": {
      "text/plain": [
       "Age                          0\n",
       "Industry                     0\n",
       "Job title                    0\n",
       "Annual Salary                0\n",
       "Currency                     0\n",
       "Working In                   0\n",
       "City                        81\n",
       "Years of Experience          0\n",
       "Present Field Experience     0\n",
       "Education                    0\n",
       "Gender                       0\n",
       "Race                         0\n",
       "dtype: int64"
      ]
     },
     "execution_count": 32,
     "metadata": {},
     "output_type": "execute_result"
    }
   ],
   "source": [
    "df.isnull().sum()"
   ]
  },
  {
   "cell_type": "code",
   "execution_count": 33,
   "metadata": {},
   "outputs": [
    {
     "data": {
      "text/plain": [
       "(27315, 12)"
      ]
     },
     "execution_count": 33,
     "metadata": {},
     "output_type": "execute_result"
    }
   ],
   "source": [
    "df.shape"
   ]
  },
  {
   "cell_type": "code",
   "execution_count": 44,
   "metadata": {},
   "outputs": [],
   "source": [
    "df.dropna(subset=['City'],inplace=True)"
   ]
  },
  {
   "cell_type": "code",
   "execution_count": 79,
   "metadata": {},
   "outputs": [
    {
     "data": {
      "text/plain": [
       "Age                         0\n",
       "Industry                    0\n",
       "Job title                   0\n",
       "Annual Salary(USDA)         0\n",
       "Working In                  0\n",
       "City                        0\n",
       "Years of Experience         0\n",
       "Present Field Experience    0\n",
       "Education                   0\n",
       "Gender                      0\n",
       "Race                        0\n",
       "dtype: int64"
      ]
     },
     "execution_count": 79,
     "metadata": {},
     "output_type": "execute_result"
    }
   ],
   "source": [
    "df.isnull().sum()"
   ]
  },
  {
   "cell_type": "code",
   "execution_count": 75,
   "metadata": {},
   "outputs": [],
   "source": [
    "df.to_csv('cleaned data.csv')"
   ]
  },
  {
   "cell_type": "markdown",
   "metadata": {},
   "source": [
    "### **EXPLORATORY DATA ANALYSIS**"
   ]
  },
  {
   "cell_type": "code",
   "execution_count": 59,
   "metadata": {},
   "outputs": [
    {
     "data": {
      "text/plain": [
       "Gender\n",
       "Woman                            20889\n",
       "Man                               5326\n",
       "Non-binary                         734\n",
       "Other or prefer not to answer      284\n",
       "Prefer not to answer                 1\n",
       "Name: count, dtype: int64"
      ]
     },
     "execution_count": 59,
     "metadata": {},
     "output_type": "execute_result"
    }
   ],
   "source": [
    "df['Gender'].value_counts()"
   ]
  },
  {
   "cell_type": "code",
   "execution_count": 66,
   "metadata": {},
   "outputs": [],
   "source": [
    "df['Gender']=df['Gender'].replace('Prefer not to answer','Other or prefer not to answer')"
   ]
  },
  {
   "cell_type": "code",
   "execution_count": 69,
   "metadata": {},
   "outputs": [
    {
     "data": {
      "text/plain": [
       "[]"
      ]
     },
     "execution_count": 69,
     "metadata": {},
     "output_type": "execute_result"
    },
    {
     "data": {
      "image/png": "[encoded data removed]",
      "text/plain": [
       "<Figure size 1700x500 with 1 Axes>"
      ]
     },
     "metadata": {},
     "output_type": "display_data"
    }
   ],
   "source": [
    "plt.figure(figsize=(17,5))\n",
    "sns.barplot(df['Gender'].value_counts())\n",
    "plt.title('Gender Distribution')\n",
    "plt.xlabel('Gender')\n",
    "plt.ylabel('Count')\n",
    "for i,j in enumerate(df['Gender'].value_counts()):\n",
    "    plt.annotate(str(j),(i,j),ha='center',va='bottom')\n",
    "plt.plot()"
   ]
  },
  {
   "cell_type": "code",
   "execution_count": 83,
   "metadata": {},
   "outputs": [
    {
     "data": {
      "text/plain": [
       "Working In\n",
       "United states     22659\n",
       "United kingdom     3195\n",
       "Australia           378\n",
       "Germany             189\n",
       "New zealand         124\n",
       "                  ...  \n",
       "Congo                 1\n",
       "Uruguay               1\n",
       "Eritrea               1\n",
       "Uganda                1\n",
       "Russia                1\n",
       "Name: count, Length: 90, dtype: int64"
      ]
     },
     "execution_count": 83,
     "metadata": {},
     "output_type": "execute_result"
    }
   ],
   "source": [
    "df['Working In'].value_counts()"
   ]
  }
 ],
 "metadata": {
  "kernelspec": {
   "display_name": "Python 3",
   "language": "python",
   "name": "python3"
  },
  "language_info": {
   "codemirror_mode": {
    "name": "ipython",
    "version": 3
   },
   "file_extension": ".py",
   "mimetype": "text/x-python",
   "name": "python",
   "nbconvert_exporter": "python",
   "pygments_lexer": "ipython3",
   "version": "3.12.2"
  }
 },
 "nbformat": 4,
 "nbformat_minor": 2
}
